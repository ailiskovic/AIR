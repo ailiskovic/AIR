{
 "cells": [
  {
   "cell_type": "code",
   "execution_count": 2,
   "id": "2fee8281",
   "metadata": {
    "colab": {
     "base_uri": "https://localhost:8080/"
    },
    "id": "2fee8281",
    "outputId": "fc19069e-4794-41aa-b867-cfdce2809c72"
   },
   "outputs": [
    {
     "name": "stderr",
     "output_type": "stream",
     "text": [
      "[nltk_data] Downloading package stopwords to\n",
      "[nltk_data]     C:\\Users\\MD\\AppData\\Roaming\\nltk_data...\n",
      "[nltk_data]   Package stopwords is already up-to-date!\n"
     ]
    }
   ],
   "source": [
    "import xml.etree.ElementTree as ET\n",
    "from xml.dom import minidom\n",
    "from bs4 import BeautifulSoup\n",
    "import re\n",
    "import nltk\n",
    "import gensim\n",
    "from nltk.tokenize import RegexpTokenizer\n",
    "from nltk.corpus import stopwords\n",
    "nltk.download('stopwords')\n",
    "from nltk.tokenize import word_tokenize\n",
    "\n",
    "tokenizer = RegexpTokenizer(r'\\w+')"
   ]
  },
  {
   "cell_type": "code",
   "execution_count": 3,
   "id": "960b9efb",
   "metadata": {
    "id": "960b9efb"
   },
   "outputs": [],
   "source": [
    "# load XML file \n",
    "xmlTree = ET.parse('Posts.xml')\n",
    "root = xmlTree.getroot()\n",
    "\n",
    "tags = {elem.tag for elem in xmlTree.iter()}\n",
    "xml_document = minidom.parse('Posts.xml')\n",
    "#xml_document = minidom.parse('/content/Posts.xml')\n",
    "row_elements = xml_document.getElementsByTagName('row')\n",
    "posts_elements = xml_document.getElementsByTagName('posts')\n",
    "\n",
    "#print(\"The amount of posts elements: \", len(posts_elements))\n",
    "#print(\"The amount of row elements: \", len(row_elements))"
   ]
  },
  {
   "cell_type": "code",
   "execution_count": 4,
   "id": "c85ff41f",
   "metadata": {
    "colab": {
     "base_uri": "https://localhost:8080/"
    },
    "id": "c85ff41f",
    "outputId": "0af80141-52c4-4113-9b56-b06fc5c8cb8c"
   },
   "outputs": [
    {
     "name": "stdout",
     "output_type": "stream",
     "text": [
      "The content of arrtibutes segment of row element: \n",
      "{'Id': '1', 'PostTypeId': '1', 'AcceptedAnswerId': '3', 'CreationDate': '2010-09-13T19:27:46.227', 'Score': '15', 'ViewCount': '253', 'Body': '<p>Are questions that belong to the category \"What Apps Should I Get?\" appropriate Android Enthusiasts? How about if they\\'re asking for specific apps, such as \"What are good RSS aggregator apps that integrate with Google Reader and allow offline reading?\"</p>\\n', 'OwnerUserId': '36', 'LastEditorUserId': '440', 'LastEditDate': '2013-06-05T06:10:40.070', 'LastActivityDate': '2013-06-05T06:10:40.070', 'Title': 'Are \"What Apps Should I Get?\" Questions Appropriate?', 'Tags': '<discussion><faq><scope><questions>', 'AnswerCount': '10', 'CommentCount': '2', 'ContentLicense': 'CC BY-SA 2.5'}\n",
      "\n"
     ]
    }
   ],
   "source": [
    "# This cell contains the prints which describe the structure of root element\n",
    "# the text is in a body attribute of a root elemnt\n",
    "\n",
    "row_element = root[0]\n",
    "print(\"The content of arrtibutes segment of row element: \")\n",
    "print(row_element.attrib)\n",
    "print(\"\")\n",
    "\n",
    "# just to see the structure of a root class\n",
    "\n",
    "# print(\"The content of attributes segment of posts element: \")\n",
    "# print(root.attrib)\n",
    "# print(\"\")\n",
    "\n",
    "# print(\"The needed content, value of Body attribute: \")\n",
    "# print(\"\")\n",
    "# print(row_element.attrib['Body'])\n",
    "\n",
    "# print(row_element.attrib['Body'])\n",
    "# print(type(row_element.attrib['Body']))\n",
    "# print(\"\")"
   ]
  },
  {
   "cell_type": "code",
   "execution_count": 5,
   "id": "d5f8eb7c",
   "metadata": {
    "colab": {
     "base_uri": "https://localhost:8080/"
    },
    "id": "d5f8eb7c",
    "outputId": "1f3e7dcd-62bf-43b3-b19a-fd666007a70c"
   },
   "outputs": [
    {
     "name": "stdout",
     "output_type": "stream",
     "text": [
      "Are questions that belong to the category \"What Apps Should I Get?\" appropriate Android Enthusiasts? How about if they're asking for specific apps, such as \"What are good RSS aggregator apps that integrate with Google Reader and allow offline reading?\"\n",
      "\n"
     ]
    }
   ],
   "source": [
    "string = row_element.attrib['Body']\n",
    "cleantext = BeautifulSoup(string, features=\"html.parser\").text\n",
    "# print example of old and new text\n",
    "print(cleantext)"
   ]
  },
  {
   "cell_type": "code",
   "execution_count": 6,
   "id": "7c15859e",
   "metadata": {
    "id": "7c15859e"
   },
   "outputs": [
    {
     "name": "stderr",
     "output_type": "stream",
     "text": [
      "C:\\Users\\MD\\anaconda3\\lib\\site-packages\\bs4\\__init__.py:435: MarkupResemblesLocatorWarning: The input looks more like a filename than markup. You may want to open this file and pass the filehandle into Beautiful Soup.\n",
      "  warnings.warn(\n"
     ]
    }
   ],
   "source": [
    "list = []\n",
    "\n",
    "for string in root.iter('row'):\n",
    "    body = string.attrib['Body']\n",
    "    cleantext = BeautifulSoup(body, features=\"html.parser\").text\n",
    "    list.append(cleantext)\n",
    "    \n",
    "    \n",
    "# #example of first 10 elements\n",
    "#print(\"Number of elements in list: \", len(list), \"\\n\")\n",
    "\n",
    "# print(\"10 elements of the list: \\n\")\n",
    "#for i in range(10):\n",
    "  #  print(list[i])"
   ]
  },
  {
   "cell_type": "code",
   "execution_count": 7,
   "id": "de6de8e2",
   "metadata": {
    "id": "de6de8e2"
   },
   "outputs": [],
   "source": [
    "# now we need to delete hyperlinks, both http and https\n",
    "for i in range(len(list)):\n",
    "    list[i] = re.sub(r'http\\S+', '', list[i])     \n",
    "\n",
    "# remove new lines    \n",
    "for i in range(len(list)):\n",
    "    list[i].replace(\"\\n\", \"\")    \n",
    "    \n",
    "# apply tockenizer to split words to elements    \n",
    "for i in range(len(list)):\n",
    "    word_lower = list[i].lower()\n",
    "    cleaned_word = tokenizer.tokenize(word_lower)\n",
    "    list[i] = cleaned_word\n",
    "    "
   ]
  },
  {
   "cell_type": "code",
   "execution_count": 8,
   "id": "41e89f7f",
   "metadata": {
    "colab": {
     "base_uri": "https://localhost:8080/"
    },
    "id": "41e89f7f",
    "outputId": "e1516909-6251-45f9-b722-42f893a3ea55"
   },
   "outputs": [
    {
     "name": "stdout",
     "output_type": "stream",
     "text": [
      "['are', 'questions', 'that', 'belong', 'to', 'the', 'category', 'what', 'apps', 'should', 'i', 'get', 'appropriate', 'android', 'enthusiasts', 'how', 'about', 'if', 'they', 're', 'asking', 'for', 'specific', 'apps', 'such', 'as', 'what', 'are', 'good', 'rss', 'aggregator', 'apps', 'that', 'integrate', 'with', 'google', 'reader', 'and', 'allow', 'offline', 'reading']\n",
      "['most', 'i', 'have', 'seen', 'are', 'list', 'of', 'x', 'questions', 'and', 'likely', 'should', 'be', 'closed', 'many', 'answers', 'are', 'non', 'authoriatative', 'and', 'subjective', 'including', 'my', 'own', 'on', 'a', 'gps', 'traffic', 'question', 'it', 'seems', 'to', 'be', 'an', 'abuse', 'to', 'simply', 'make', 'this', 'a', 'request', 'board', 'for', 'app', 'suggestions']\n",
      "['no', 'why', 'because', 'there', 's', 'no', 'wrong', 'answer', 'so', 'anything', 'would', 'go', 'does', 'this', 'mean', 'i', 'just', 'add', 'a', 'bunch', 'of', 'rules', 'to', 'narrow', 'the', 'scope', 'and', 'then', 'it', 'is', 'allowed', 'well', 'still', 'no', 'because', 'answers', 'tend', 'to', 'be', 'valued', 'for', 'how', 'much', 'people', 'like', 'the', 'mentioned', 'app', 'not', 'the', 'usefulness', 'or', 'quality', 'of', 'the', 'answer', 'wouldn', 't', 'making', 'it', 'community', 'wiki', 'solve', 'the', 'problem', 'again', 'nope', 'community', 'wiki', 'is', 'meant', 'for', 'questions', 'that', 'don', 't', 'have', 'a', 'definitive', 'answer', 'and', 'thus', 'need', 'some', 'room', 'for', 'discussion', 'or', 'when', 'the', 'answers', 'would', 'benefit', 'from', 'collaboration', 'of', 'the', 'community', 'the', 'fact', 'that', 'there', 's', 'no', 'rep', 'doesn', 't', 'change', 'the', 'fact', 'that', 'votes', 'no', 'longer', 'equal', 'quality', 'which', 'is', 'what', 'our', 'engine', 'is', 'designed', 'for', 'so', 'what', 'to', 'do', 'try', 'asking', 'a', 'question', 'that', 'invites', 'quality', 'answers', 'that', 'limits', 'the', 'amount', 'of', 'answers', 'it', 'should', 'be', 'limited', 'to', 'one', 'page', 'of', 'answers', 'and', 'that', 'explain', 'how', 'the', 'app', 'fits', 'your', 'specific', 'needs']\n",
      "['if', 'they', 'are', 'subjective', 'then', 'they', 'should', 'at', 'the', 'least', 'be', 'community', 'wiki', 'or', 'closed', 'depending', 'on', 'how', 'generic', 'or', 'specific', 'the', 'question', 'is']\n",
      "['possible', 'duplicate', 'write', 'and', 'elevator', 'pitch', 'tagline', 'note', 'we', 'are', 'closing', 'this', 'domain', 'naming', 'thread', 'it', 'is', 'asking', 'the', 'entirely', 'wrong', 'question', 'see', 'this', 'blog', 'post', 'for', 'details', 'domain', 'names', 'wrong', 'question', 'we', 're', 'going', 'to', 'keep', 'the', 'name', 'android', 'stackexchange', 'com', 'but', 'we', 'will', 'be', 'setting', 'up', 'redirects', 'from', 'the', 'more', 'popular', 'domains', 'names', 'e', 'g', 'seasonedadvice', 'com', 'to', 'cooking', 'stackexchange', 'com', 'basicallymoney', 'com', 'to', 'money', 'stackexchange', 'com', 'and', 'others', 'as', 'we', 'go', 'through', 'the', 'list', 'new', 'question', 'write', 'and', 'elevator', 'pitch', 'tagline', 'click', 'here', 'to', 'contribute', 'ideas', 'and', 'vote', 'original', 'message', 'text', 'below', 'post', 'your', 'ideas', 'for', 'a', 'dot', 'com', 'domain', 'name', 'for', 'this', 'website', 'which', 'captures', 'the', 'spirit', 'and', 'intent', 'of', 'the', 'site', 'namely', 'name', 'is', 'intended', 'for', 'enthusiasts', 'power', 'users', 'and', 'regular', 'people', 'using', 'the', 'android', 'operating', 'system', 'please', 'follow', 'these', 'guidelines', 'check', 'to', 'see', 'if', 'the', 'domain', 'is', 'taken', 'before', 'making', 'the', 'name', 'suggestion', 'taken', 'names', 'however', 'clever', 'are', 'not', 'helpful', 'you', 'can', 'use', 'whois', 'net', 'to', 'check', 'availability', 'read', 'this', 'post', 'regarding', 'squatted', 'names', 'post', 'one', 'domain', 'per', 'answer', 'this', 'makes', 'the', 'voting', 'process', 'much', 'easier', 'if', 'domains', 'are', 'very', 'similar', 'e', 'g', 'dev', 'and', 'devs', 'they', 'can', 'be', 'in', 'the', 'same', 'answer', 'make', 'sure', 'the', 'domain', 'wasn', 't', 'already', 'suggested', 'to', 'search', 'within', 'this', 'question', 'use', 'a', 'search', 'query', 'such', 'as', 'inquestion', '1', 'example', 'com', 'replacing', 'example', 'com', 'with', 'the', 'domain', 'to', 'search', 'for', 'when', 'coming', 'back', 'to', 'this', 'question', 'make', 'sure', 'to', 'sort', 'the', 'answers', 'newest', 'first', 'as', 'to', 'not', 'miss', 'new', 'proposals']\n",
      "['stack', 'overflow', 'already', 'has', 'lots', 'of', 'questions', 'regarding', 'android', 'programming', 'should', 'this', 'site', 'try', 'to', 'stick', 'to', 'questions', 'about', 'using', 'owning', 'an', 'android', 'device', 'rather', 'than', 'developing', 'for', 'it', 'or', 'is', 'the', 'idea', 'to', 'include', 'anything', 'about', 'android', 'devices']\n",
      "['my', 'two', 'cents', 'if', 'the', 'question', 'is', 'programming', 'related', 'so', 'makes', 'the', 'most', 'sense', 'to', 'me', 'this', 'may', 'be', 'a', 'fair', 'place', 'for', 'input', 'regarding', 'user', 'interface', 'questions', 'during', 'app', 'development', 'though', 'so', 'long', 'as', 'you', 'can', 'keep', 'the', 'question', 'from', 'being', 'overly', 'subjective', 'this', 'is', 'a', 'site', 'for', 'android', 'users', 'and', 'power', 'users', 'not', 'necessarily', 'programmers']\n",
      "['unless', 'until', 'the', 'android', 'developers', 'suggestion', 'at', 'area', '51', 'takes', 'off', 'i', 'think', 'so', 'should', 'be', 'used', 'for', 'development', 'questions']\n",
      "['if', 'the', 'question', 'in', 'subjective', 'i', 'generally', 'agree', 'with', 'ivo', 'flipse', 's', 'answer', 'though', 'i', 'think', 'there', 'are', 'usually', 'good', 'ways', 'to', 're', 'phrase', 'the', 'question', 'that', 'are', 'not', 'subjective', 'instead', 'of', 'which', 'dinosaur', 'app', 'you', 'could', 'ask', 'what', 'are', 'the', 'differences', 'between', 'these', 'three', 'dinosaur', 'apps', 'or', 'are', 'there', 'any', 'dinosaur', 'apps', 'sorry', 'dinosaurs', 'were', 'the', 'first', 'random', 'topic', 'that', 'came', 'to', 'mind', 'i', 'must', 'be', 'a', 'five', 'year', 'old']\n",
      "['generic', 'or', 'specific', 'questions', 'should', 'be', 'made', 'community', 'like', 'what', 's', 'the', 'best', 'traffic', 'app', 'questions', 'like', 'what', 'apps', 'should', 'i', 'get', 'should', 'be', 'closed']\n",
      "['if', 'you', 'have', 'some', 'app', 'for', 'something', 'that', 'you', 'like', 'and', 'are', 'looking', 'for', 'other', 'similar', 'apps', 'is', 'that', 'an', 'appropriate', 'question']\n",
      "['roboticoverlords', 'com', 'org']\n",
      "['humancyborgrelations', 'com', 'org', 'and', 'this', 'is', 'my', 'counterpart', 'r2d2']\n",
      "['i', 'm', 'going', 'to', 'say', 'that', 'this', 'depends', 'on', 'how', 'specific', 'it', 'is', 'at', 'the', 'least', 'it', 'should', 'be', 'community', 'wiki', 'if', 'it', 'isn', 't', 'specific', 'enough', 'then', 'it', 'should', 'be', 'closed']\n",
      "['programming', 'questions', 'should', 'remain', 'on', 'stack', 'overflow']\n",
      "['i', 'don', 't', 'think', 'it', 's', 'appropriate', 'to', 'eliminate', 'questions', 'simply', 'because', 'they', 'have', 'a', 'subjective', 'element', 'especially', 'if', 'there', 'is', 'the', 'question', 'can', 'invite', 'objective', 'answers', 'for', 'example', 'i', 'don', 't', 'think', 'a', 'completely', 'subjective', 'question', 'like', 'what', 's', 'the', 'funnest', 'game', 'app', 'has', 'any', 'value', 'questions', 'like', 'that', 'shouldn', 't', 'be', 'asked', 'however', 'a', 'similar', 'app', 'suggestion', 'question', 'like', 'what', 'is', 'the', 'most', 'effective', 'anti', 'virus', 'app', 'is', 'completely', 'appropriate', 'this', 'question', 'invites', 'quantitative', 'responses', 'that', 'will', 'add', 'value', 'to', 'the', 'community', 'if', 'you', 'use', 'a', 'particular', 'app', 'and', 'you', 'simply', 'like', 'it', 'then', 'don', 't', 'answer', 'if', 'you', 'have', 'used', 'several', 'apps', 'and', 'have', 'knowledge', 'about', 'something', 'that', 'makes', 'one', 'app', 'definitively', 'stand', 'out', 'from', 'the', 'rest', 'then', 'by', 'all', 'means', 'share', 'i', 'don', 't', 'see', 'the', 'harm', 'in', 'this']\n",
      "['i', 'have', 'seen', 'that', 'some', 'questions', 'are', 'tagged', 'with', 'android', 'but', 'since', 'this', 'site', 'is', 'only', 'about', 'android', 'i', 'don', 't', 'see', 'this', 'tag', 'usefull', 'basically', 'all', 'questions', 'should', 'be', 'tagged', 'with', 'that', 'tag', 'can', 'we', 'black', 'list', 'the', 'android', 'tag']\n",
      "['androidexchange', 'org', 'edit', 'com', 'and', 'net', 'was', 'taken']\n",
      "['this', 'is', 'still', 'a', 'list', 'of', 'x', 'question', 'just', 'rephrased', 'consider', 'it', 'as', 'a', 'cooking', 'se', 'question', 'i', 'like', 'macaroni', 'and', 'cheese', 'what', 'are', 'some', 'other', 'macaroni', 'and', 'cheese', 'recipes', 'it', 'invites', 'poor', 'answers', 'that', 'have', 'a', 'subjective', 'basis', 'especially', 'here', 'where', 'it', 'would', 'often', 'be', 'localized', 'to', 'a', 'particular', 'handset']\n",
      "['i', 'say', 'yes', 'if', 'they', 'are', 'phrased', 'properly', 'what', 'is', 'the', 'best', 'app', 'is', 'not', 'a', 'good', 'question', 'but', 'what', 'is', 'the', 'best', 'app', 'in', 'the', 'category', 'y', 'like', 'email', 'notes', 'or', 'fart', 'noise', 'making', 'is', 'very', 'appropriate']\n",
      "['sounds', 'like', 'a', 'good', 'idea', 'to', 'me']\n",
      "['we', 've', 'got', 'a', 'while', 'but', 'no', 'harm', 'in', 'starting', 'to', 'brainstorm', 'now', 'besides', 'i', 'm', 'part', 'web', 'designer', 'and', 'i', 'like', 'thinking', 'about', 'these', 'things', 'even', 'if', 'i', 'don', 't', 'have', 'a', 'lot', 'of', 'time', 'to', 'contribute', 'in', 'that', 'regard', 'right', 'now', 'also', 'does', 'anybody', 'know', 'is', 'there', 'open', 'licensing', 'on', 'the', 'android', 'logo', 'or', 'are', 'there', 'copyright', 'issues', 'involved']\n",
      "['e', 'g', 'i', 'want', 'to', 'ask', 'a', 'question', 'if', 'anyone', 'has', 'more', 'details', 'or', 'has', 'seen', 'any', 'update', 'on', 'when', 'sprint', 'will', 'be', 'rolling', 'out', '4g', 'to', 'new', 'york', 'this', 'is', 'because', 'i', 'have', 'an', 'evo', '4g', 'which', 'is', 'an', 'android', 'phone', 'but', 'the', 'question', 'itself', 'is', 'only', 'indirectly', 'related', 'to', 'android']\n",
      "['i', 'think', 'there', 'is', 'value', 'to', 'a', 'generic', 'community', 'wiki', 'question', 'when', 'it', 'provides', 'answers', 'a', 'lot', 'of', 'people', 'are', 'going', 'to', 'look', 'for', 'phrasing', 'the', 'question', 'what', 'should', 'i', 'get', 'is', 'a', 'bad', 'idea', 'but', 'maybe', 'making', 'a', 'cw', 'question', 'that', 'is', 'generically', 'useful', 'for', 'all', 'users', 'is', 'not', 'bad', 'what', 'is', 'your', 'favorite', 'twitter', 'app', 'and', 'why', 'check', 'out', 'the', 'following', 'cw', 'questions', 'on', 'stack', 'overflow', 'all', 'of', 'them', 'have', 'multiple', 'right', 'answers', 'but', 'are', 'highly', 'rated', 'and', 'favorited', 'by', 'the', 'community', 'in', 'fact', 'these', 'are', 'some', 'of', 'the', 'highest', 'rated', 'of', 'all', 'questions', 'what', 'is', 'your', 'single', 'favorite', 'development', 'tool', 'what', 'are', 'your', 'favorite', 'vim', 'tricks', 'list', 'of', 'freely', 'available', 'programming', 'books', '1', '4k', 'upvotes', 'and', 'almost', '2k', 'favorites']\n",
      "['i', 'would', 'certainly', 'hope', 'that', 'model', 'specific', 'questions', 'are', 'appropriate', 'otherwise', 'we', 've', 'rendered', 'the', 'entire', 'site', 'impotent', 'as', 'a', 'support', 'resource', 'however', 'your', 'specific', 'example', 'question', 'seems', 'both', 'speculative', 'and', 'not', 'specific', 'to', 'android', 'which', 'probably', 'isn', 't', 'going', 'to', 'be', 'considered', 'on', 'topic', 'here']\n",
      "['i', 'think', 'a', 'lot', 'of', 'good', 'points', 'have', 'already', 'been', 'made', 'here', 'but', 'after', 'taking', 'a', 'look', 'at', 'the', 'existing', 'questions', 'i', 'really', 'think', 'people', 'need', 'to', 'take', 'a', 'good', 'hard', 'look', 'at', 'this', 'what', 's', 'the', 'best', 'security', 'anti', 'virus', 'app', 'any', 'good', 'world', 'time', 'applications', 'what', 'is', 'the', 'best', 'music', 'app', 'good', 'dictation', 'transcription', 'software', 'are', 'there', 'any', 'good', 'firewalls', 'available', 'is', 'there', 'a', 'good', 'app', 'for', 'monitoring', 'the', 'amount', 'of', 'data', 'traffic', 'what', 'is', 'the', 'best', 'alternative', 'to', 'the', 'stock', 'camera', 'app', 'whats', 'the', 'best', 'app', 'for', 'identifying', 'apps', 'or', 'settings', 'that', 'cause', 'performance', 'problems', 'what', 'are', 'the', 'best', 'personal', 'finance', 'applications', 'for', 'android', 'what', 'do', 'you', 'use', 'for', 'note', 'taking', 'comparision', 'of', 'twitter', 'apps', 'alternative', 'keyboards', 'what', 'lost', 'phone', 'finder', 'do', 'you', 'use', 'and', 'why', 'what', 'replacements', 'are', 'available', 'for', 'google', 'maps', 'what', 'android', 'apps', 'do', 'you', 'pay', 'for', 'what', 'apps', 'do', 'you', 'have', 'that', 'you', 'have', 'uninstalled', 'for', 'performance', 'problems', 'edit', 'i', 'missed', 'a', 'few', 'and', 'more', 'just', 'keep', 'coming', 'and', 'coming', 'what', 'is', 'the', 'lightest', 'homescreen', 'replacement', 'launcher', 'app', 'app', 'available', 'for', 'stackexchange', 'on', 'android', 'handset', 'ok', 'at', 'least', 'there', 'are', 'only', 'a', 'few', 'of', 'these', 'what', 'are', 'the', 'options', 'for', 'tricorder', 'apps', 'apps', 'for', 'rss', 'feed', 'aggregator', 'sites', 'android', 'app', 'for', 'linkedin', 'integration', 'what', 'voice', 'privacy', 'apps', 'are', 'available', 'guys', 'this', 'is', 'seriously', 'awful', 'we', 'are', 'just', 'one', 'day', 'into', 'the', 'beta', 'and', 'out', 'of', '109', 'questions', 'on', 'the', 'site', '22', 'of', 'them', 'over', '20', 'are', 'about', 'which', 'apps', 'are', 'good', 'bad', 'best', 'yikes', 'worse', 'almost', 'none', 'of', 'them', 'are', 'community', 'wiki', 'so', 'people', 'are', 'actually', 'gaining', 'rep', 'for', 'asking', 'and', 'answering', 'the', 'most', 'mundane', 'and', 'subjective', 'questions', 'imaginable', 'i', 'think', 'this', 'list', 'very', 'dramatically', 'illustrates', 'the', 'problem', 'with', 'allowing', 'these', 'questions', 'there', 's', 'no', 'end', 'to', 'them', 'what', 's', 'the', 'best', 'compass', 'app', 'what', 's', 'the', 'best', 'flashlight', 'app', 'what', 's', 'the', 'best', 'ukelele', 'simulation', 'app', 'gah', 'is', 'this', 'what', 'we', 're', 'going', 'to', 'be', 'just', 'a', 'glorified', 'review', 'site', 'is', 'it', 'really', 'that', 'hard', 'to', 'just', 'go', 'to', 'the', 'market', 'and', 'read', 'the', 'reviews', 'the', 'android', 'developers', 'have', 'already', 'built', 'us', 'this', 'beautiful', 'rating', 'and', 'review', 'system', 'that', 'you', 'can', 'access', 'right', 'on', 'your', 'phone', 'we', 'don', 't', 'need', 'this', 'fluff', 'please', 'please', 'let', 's', 'start', 'closing', 'these', 'questions', 'at', 'the', 'very', 'least', 'close', 'them', 'until', 'we', 'have', 'moderators', 'who', 'can', 'properly', 'wikify', 'them', 'but', 'even', 'then', 'i', 'don', 't', 'want', 'to', 'see', 'people', 's', '1', 'line', 'recommendations', 'taking', 'up', '20', 'of', 'the', 'site', 'this', 'is', 'turning', 'into', 'a', 'land', 'grab', 'with', 'everybody', 'wanting', 'to', 'own', 'one', 'of', 'the', 'big', 'bad', '500', 'upvoted', 'poll', 'questions', 'if', 'we', 'don', 't', 'nip', 'this', 'in', 'the', 'bud', 'it', 's', 'going', 'to', 'bite', 'us', 'hard', 'later', 'on', 'p', 's', 'i', 'm', 'not', 'saying', 'every', 'question', 'about', 'an', 'app', 'is', 'bad', 'here', 'are', 'two', 'that', 'are', 'fine', 'is', 'there', 'an', 'alarm', 'clock', 'app', 'that', 'takes', 'account', 'of', 'personal', 'and', 'or', 'public', 'holidays', 'how', 'can', 'i', 'choose', 'between', 'shazam', 'and', 'midomi', 'in', 'the', 'first', 'example', 'somebody', 'is', 'looking', 'for', 'a', 'very', 'specific', 'app', 'and', 'has', 'provided', 'criteria', 'to', 'significantly', 'narrow', 'down', 'the', 'list', 'of', 'candidates', 'in', 'the', 'second', 'example', 'the', 'author', 'is', 'asking', 'for', 'a', 'comparison', 'of', 'two', 'specific', 'apps', 'i', 'see', 'no', 'problem', 'with', 'either', 'of', 'these', 'i', 'just', 'don', 't', 'want', 'to', 'see', 'two', 'hundred', 'post', 'your', 'favourite', 'x', 'app', 'polls', 'by', 'the', 'time', 'we', 'hit', 'public', 'beta']\n",
      "['my', 'opinion', 'if', 'the', 'question', 'specifies', 'how', 'an', 'app', 'would', 'be', 'like', 'x', 'as', 'in', 'providing', 'a', 'list', 'of', 'required', 'features', 'constraints', 'then', 'that', 's', 'ok', 'but', 'in', 'that', 'case', 'you', 'don', 't', 'really', 'need', 'the', 'app', 'x', 'in', 'there', 'i', 'suppose', 'it', 'doesn', 't', 'hurt', 'but', 'you', 'could', 'just', 'say', 'i', 'm', 'looking', 'for', 'an', 'app', 'with', 'these', '10', 'features', 'unless', 'these', 'questions', 'are', 'significantly', 'constrained', 'there', 's', 'no', 'appreciable', 'difference', 'between', 'them', 'and', 'what', 'x', 'app', 'should', 'i', 'get', 'questions', 'i', 'd', 'at', 'least', 'be', 'suspicious', 'of', 'any', 'and', 'all', 'questions', 'taking', 'this', 'format', 'as', 'they', 'are', 'likely', 'to', 'be', 'treated', 'as', 'polls']\n",
      "['just', 'another', 'angle', 'at', 'defining', 'the', 'fuzzy', 'boundaries', 'of', 'things', 'here', 'say', 'i', 'm', 'looking', 'for', 'a', 'books', 'app', 'with', 'barcode', 'scanning', 'and', 'goodreads', 'integration', 'is', 'asking', 'whether', 'one', 'exists', 'and', 'what', 'it', 'is', 'on', 'topic', 'or', 'too', 'subjective']\n",
      "['are', 'questions', 'like', 'the', 'following', 'appropriate', 'i', 'm', 'using', 'application', 'x', 'can', 'you', 'tell', 'me', 'how', 'to', 'do', 'y', 'with', 'app', 'x']\n",
      "['androidmechanics', 'org']\n",
      "['this', 'answer', 'here', 'on', 'meta', 'points', 'out', 'a', 'number', 'of', 'questions', 'asking', 'for', 'a', 'list', 'of', 'apps', 'or', 'your', 'favorite', 'x', 'app', 'which', 'should', 'probably', 'be', 'closed', 'due', 'to', 'their', 'subjective', 'unanswerable', 'nature', 'when', 'i', 'vote', 'to', 'close', 'a', 'question', 'like', 'these', 'which', 'reason', 'is', 'the', 'right', 'one', 'to', 'use', 'not', 'a', 'question', 'subjective', 'or', 'off', 'topic']\n",
      "['what', 'apps', 'should', 'i', 'get', 'should', 'be', 'closed', 'as', 'not', 'a', 'real', 'question', 'too', 'vague', 'here', 'are', 'some', 'similar', 'questions', 'that', 'i', 'imagine', 'being', 'asked', 'what', 'is', 'your', 'desert', 'island', 'top', '5', 'apps', 'which', 'app', 'do', 'you', 'use', 'the', 'most', 'which', 'app', 'has', 'changed', 'your', 'life', 'and', 'now', 'you', 'couldn', 't', 'live', 'without', 'which', 'relatively', 'unknown', 'app', 'do', 'you', 'think', 'more', 'people', 'should', 'know', 'about', 'i', 'think', 'this', 'sort', 'of', 'question', 'could', 'be', 'very', 'popular', 'and', 'attract', 'lots', 'of', 'answers', 'and', 'might', 'even', 'be', 'an', 'interesting', 'read', 'i', 'd', 'rather', 'not', 'see', 'this', 'type', 'of', 'question', 'regularly', 'but', 'it', 's', 'almost', 'inevitable', 'that', 'we', 'll', 'get', 'some', 'popular', 'questions', 'of', 'this', 'type', 'what', 'are', 'good', 'rss', 'aggregator', 'apps', 'that', 'integrate', 'with', 'google', 'reader', 'and', 'allow', 'offline', 'reading', 'yes', 'i', 'think', 'that', 's', 'ok', 'it', 's', 'answerable', 'and', 'it', 'helps', 'someone', 'solve', 'a', 'specific', 'need', 'in', 'the', 'definition', 'phase', 'of', 'this', 'site', 'someone', 'suggested', 'this', 'question', 'is', 'there', 'an', 'app', 'which', 'app', 'is', 'best', 'that', 'can', 'do', 'task', 'this', 'question', 'received', '6', 'ontopic', 'votes', 'and', '0', 'offtopic', 'votes', 'so', 'this', 'sort', 'of', 'question', 'seems', 'like', 'it', 'should', 'be', 'allowed', 'also', 'people', 'are', 'asking', 'this', 'type', 'of', 'question', 'a', 'lot', 'so', 'it', 's', 'obviously', 'something', 'people', 'want', 'to', 'be', 'able', 'to', 'ask']\n",
      "['according', 'to', '01', 'android', 'robot', 'can', 'be', 'used', 'reproduced', 'and', 'modified', 'freely', 'in', 'marketing', 'communications', 'our', 'standard', 'color', 'value', 'for', 'print', 'is', 'pms', '376c', 'our', 'online', 'hex', 'color', 'is', 'a4c639', 'when', 'using', 'the', 'android', 'robot', 'or', 'any', 'modification', 'of', 'it', 'proper', 'attribution', 'is', 'required', 'under', 'the', 'terms', 'of', 'the', 'creative', 'commons', 'attribution', 'license', 'for', 'more', 'details', 'on', 'proper', 'attribution', 'please', 'see', 'this', 'page', 'andoird', 'typeface', 'logo', 'may', 'not', 'be', 'used', 'given', 'that', 'i', 'think', 'if', 'we', 'maybe', 'have', 'a', 'nice', 'redux', 'of', 'the', 'android', 'style', 'like', 'how', 'area51', 'is', 'done', 'so', 'it', 's', 'not', 'so', 'similar', 'to', 'every', 'other', 'droid', 'forum', 'out', 'there', 'but', 'has', 'it', 's', 'own', 'flair', 'that', 'd', 'be', 'nice', 'with', 'an', 'emphasis', 'on', 'robots', 'so', 'binary', 'and', 'such', 'maybe']\n",
      "['how', 'are', 'other', 'beta', 'sites', 'dealing', 'with', 'duplicate', 'tags', 'for', 'example', 'applications', 'most', 'popular', 'vs', 'apps', 'vs', 'android', 'app', 'these', 'bring', 'up', 'three', 'different', 'sets', 'of', 'questions', 'that', 'are', 'all', 'about', 'apps', 'btw', 'android', 'app', 'is', 'redundant', 'and', 'should', 'be', 'removed', 'regardless', 'since', 'the', 'site', 'only', 'covers', 'android', 'apps', 'to', 'begin', 'with']\n",
      "['or', 'is', 'there', 'another', 'party', 'i', 'don', 't', 'know', 'about', 'p']\n",
      "['i', 'totally', 'thought', 'the', 'same', 'thing', 'about', 'the', 'android', 'app', 'tag', 'being', 'redundant', 'we', 'should', 'choose', 'which', 'one', 'is', 'the', 'authoritative', 'tag', 'and', 'edit', 'all', 'the', 'questions', 'to', 'use', 'that', 'one', 'i', 'vote', 'we', 'use', 'applications', 'is', 'there', 'a', 'way', 'to', 'blacklist', 'tags']\n",
      "['beta', 'actively', 'participated', 'in', 'the', 'private', 'beta', 'if', 'i', 'recall', 'correctly', 'from', 'the', 'web', 'applications', 'stackexchange', 'beta', 'these', 'are', 'awarded', 'just', 'a', 'bit', 'after', 'the', 'site', 'goes', 'public', 'beta', 'once', 'you', 'have', 'actively', 'participated', 'this', 'site', 'has', 'been', 'running', 'nye', 'on', '3', 'days', 'it', 's', 'far', 'far', 'to', 'early', 'for', 'the', 'beta', 'badge', 'to', 'be', 'awarded']\n",
      "['i', 'would', 'say', 'yes', 'certainly', 'for', 'built', 'in', 'and', 'google', 'applications', 'for', 'more', 'obscure', 'application', 'maybe', 'not', 'but', 'those', 'are', 'less', 'likely', 'to', 'get', 'answers', 'anyways']\n",
      "['i', 'think', 'they', 're', 'appropriate', 'in', 'fact', 'i', 'think', 'they', 're', 'far', 'more', 'relevant', 'to', 'the', 'mission', 'of', 'the', 'site', 'than', 'the', 'mass', 'of', 'what', 's', 'the', 'best', 'x', 'app', 'questions', 'these', 'are', 'real', 'questions', 'with', 'objective', 'answers', 'that', 'are', 'specific', 'to', 'the', 'android', 'platform', 'so', 'yes', 'please', 'ask', 'them']\n",
      "['not', 'that', 'non', 'market', 'or', 'self', 'hosted', 'apps', 'should', 'be', 'an', 'issue', 'but', 'what', 'about', 'warez', 'type', 'hosting', 'of', 'cracked', 'paid', 'apps', 'or', 'of', 'apps', 'that', 'have', 'been', 'removed', 'from', 'the', 'market', 'case', 'in', 'point', 'the', 'shapewriter', 'keyboard', 'apk', 'was', 'pulled', 'from', 'distribution', 'after', 'a', 'company', 're', 'org', 'buy', 'out', 'it', 's', 'hosted', 'in', 'a', 'few', 'places', 'on', 'the', 'web', 'should', 'we', 'or', 'should', 'we', 'not', 'tolerate', 'links', 'to', 'such', 'an', 'apk']\n",
      "['i', 'say', 'no', 'to', 'warez', 'cracks', 'marketplace', 'market', 'place', 'aggregator', 'links', 'are', 'a', 'ok', 'e', 'g', 'appbrain', 'marketplace', 'proper', 'alternate', 'marketplaces', 'are', 'ok', 'as', 'long', 'as', 'they', 'aren', 't', 'warez', 'sites', 'disguised', 'as', 'such', 'google', 'code', 'links', 'are', 'a', 'ok', 'links', 'to', 'applications', 'that', 'are', 'free', 'where', 'otherwise', 'they', 'd', 'be', 'paid', 'for', 'not', 'ok', 'links', 'to', 'applications', 'retracted', 'from', 'the', 'marketplace', 'not', 'ok', 'i', 'think', 'the', 'same', 'rules', 'apply', 'as', 'those', 'rules', 'for', 'program', 'hosting']\n",
      "['specific', 'model', 'service', 'provider', 'questions', 'are', 'good', 'but', 'specific', 'model', 'compared', 'to', 'specific', 'model', 'questions', 'are', 'bad', 'for', 'multiple', 'reasons', 'subjective', 'usually', 'unless', 'specs', 'only', 'the', 'market', 'changes', 'so', 'fast', 'comparing', 'these', 'two', 'apples', 'is', 'pointless', 'in', 'another', 'two', 'months', 'i', 'would', 'think']\n",
      "['i', 'think', 'this', 'is', 'a', 'good', 'question', 'but', 'remembering', 'that', 'in', 'a', 'year', 'from', 'now', 'that', 'app', 'may', 'not', 'exist', 'anymore', 'i', 'would', 'love', 'to', 'be', 'able', 'to', 'get', 'an', 'answer', 'for', 'these', 'kinds', 'of', 'questions', 'because', 'i', 'don', 't', 'think', 'there', 'is', 'any', 'other', 'resource', 'for', 'this']\n",
      "['the', 'pertinent', 'question', 'of', 'course', 'is', 'how', 'much', 'the', 'additional', 'criteria', 'narrow', 'it', 'down', 'for', 'example', 'if', 'you', 'ask', 'for', 'a', 'browser', 'app', 'with', 'bookmarks', 'that', 's', 'pretty', 'lame', 'they', 'all', 'have', 'that', 'your', 'example', 'of', 'a', 'books', 'app', 'with', 'barcode', 'scanning', 'and', 'goodreads', 'integration', 'is', 'much', 'better', 'because', 'it', 'narrows', 'it', 'down', 'to', 'probably', 'less', 'than', '5', 'or', 'so', 'apps', 'of', 'course', 'the', 'voting', 'is', 'still', 'pretty', 'meaningless', 'but', 'at', 'least', 'it', 's', 'not', 'an', 'open', 'invitation', 'for', 'everybody', 'to', 'post', 'their', 'favourite', 'app', 'so', 'for', 'the', 'most', 'part', 'yes', 'i', 'would', 'say', 'that', 'the', 'question', 'format', 'is', 'valid', 'although', 'individual', 'questions', 'would', 'still', 'have', 'to', 'be', 'evaluated', 'individually', 'with', 'respect', 'to', 'how', 'meaningful', 'the', 'constraints', 'are']\n",
      "['now', 'that', 'the', 'android', 'questions', 'from', 'gadgets', 'stackexchange', 'have', 'been', 'merged', 'in', 'we', 've', 'got', 'a', 'lot', 'of', 'duplicated', 'questions', 'that', 'pre', 'date', 'the', 'start', 'of', 'beta', 'answers', 'can', 'be', 'different', 'or', 'come', 'from', 'the', 'same', 'people', 'if', 'one', 'of', 'us', 'asked', 'a', 'question', 'or', 'gave', 'an', 'answer', 'in', 'gadgets', 'se', 'that', 'shows', 'up', 'on', 'our', 'profile', 'here', 'but', 'we', 'don', 't', 'get', 'any', 'credit', 'for', 'it', 'how', 'would', 'you', 'give', 'credit', 'to', 'a', 'non', 'beta', 'member', 'anyway', 'but', 'if', 'we', 'close', 'questions', 'from', 'ae', 'in', 'favor', 'of', 'pre', 'existing', 'gadgets', 'questions', 'what', 'would', 'happen', 'to', 'rep']\n",
      "['handyandy', 'org', 'and', 'extra', 'chars', 'added', 'to', 'bypass', 'the', 'filter']\n",
      "['roboticbraininfo', 'com', 'i', 'feel', 'that', 'since', 'androids', 'are', 'a', 'compliment', 'to', 'our', 'brains', 'in', 'external', 'form', 'we', 'should', 'graft', 'a', 'site', 'name', 'that', 'compliments', 'it', 's', 'use']\n",
      "['as', 'far', 'as', 'rep', 'goes', 'stackexchange', 'sites', 'periodically', 'get', 'global', 'recalculations', 'so', 'i', 'm', 'sure', 'the', 'rep', 'for', 'imported', 'questions', 'will', 'be', 'doled', 'out', 'accordingly', 'when', 'the', 'next', 'one', 'happens', 'here', 'i', 'm', 'not', 'sure', 'what', 'to', 'do', 'with', 'dupes', 'especially', 'when', 'both', 'have', 'an', 'accepted', 'answer', 'so', 'far', 'i', 've', 'just', 'let', 'them', 'be', 'sometimes', 'adding', 'a', 'cross', 'link', 'in', 'the', 'comments', 'since', 'both', 'were', 'the', 'first', 'to', 'ask', 'the', 'question', 'on', 'their', 'respective', 'sites']\n",
      "['how', 'should', 'we', 'handle', 'tags', 'for', 'the', 'various', 'versions', 'of', 'android', 'for', 'android', '2', '2', 'we', 'have', 'have', 'three', 'different', 'tags', 'android', '2', '2', 'froyo', 'and', '2', '2', 'android', '2', '2', 'is', 'by', 'far', 'the', 'most', 'popular', 'next', 'followed', 'up', 'by', 'froyo', 'should', 'we', 'try', 'and', 'merge', 'these', 'tags', 'to', 'be', 'something', 'like', 'android', '2', '2', 'froyo', 'or', '2', '2', 'froyo']\n",
      "['the', 'questions', 'should', 'be', 'merged', 'this', 'will', 'solve', 'any', 'rep', 'problems', 'when', 'a', 'global', 'recalc', 'is', 'done']\n",
      "['i', 'say', 'use', 'the', 'name', 'of', 'the', 'build', 'donut', 'eclair', 'froyo', 'merge', 'them', 'all', 'into', 'this', 'the', 'number', 'isn', 't', 'bad', 'but', 'it', 'may', 'be', 'confused', 'with', 'other', 'app', 'version', 'names', 'or', 'other', 'relevant', 'numbers', 'using', 'android', '2', '2', 'is', 'pure', 'redundant', 'silliness', 'why', 'should', 'we', 'have', 'to', 'specify', 'that', 'we', 'are', 'talking', 'about', 'android', 'on', 'the', 'android', 'enthusiasts', 'stackexchange']\n",
      "['yes', 'my', '2', 'cents', 'this', 'is', 'a', 'good', 'question', 'that', 'needs', 'to', 'be', 'answered', 'in', 'meta', 'but', 'i', 'think', 'theres', 'too', 'much', 'paranoia', 'over', 'subjectivity', 'whether', 'an', 'app', 'that', 'provides', 'a', 'particular', 'function', 'or', 'not', 'is', 'not', 'subjective', 'at', 'all', 'either', 'the', 'app', 'does', 'or', 'it', 'doesn', 't', 'people', 'are', 'conflating', 'questions', 'that', 'have', 'more', 'than', 'one', 'answer', 'with', 'subjective', 'question']\n",
      "['i', 'have', 'been', 'reading', 'a', 'lot', 'of', 'answers', 'that', 'are', 'merely', 'someone', 's', 'opinion', 'or', 'lazy', 'guess', 'if', 'someone', 'asks', 'a', 'specific', 'question', 'and', 'you', 'don', 't', 'know', 'the', 'answer', 'with', 'authority', 'then', 'don', 't', 'answer', 'if', 'you', 'find', 'yourself', 'writing', 'i', 'think', 'or', 'your', 'best', 'bet', 'probably', 'is', 'or', 'i', 'haven', 't', 'tried', 'this', 'app', 'so', 'i', 'don', 't', 'know', 'but', 'then', 'please', 'promptly', 'hold', 'the', 'backspace', 'button', 'down', 'for', 'a', 'few', 'seconds', 'then', 'click', 'on', 'the', 'x', 'in', 'the', 'upper', 'right', 'hand', 'corner', 'of', 'your', 'screen', 'i', 'don', 't', 'necessarily', 'think', 'that', 'someone', 'has', 'to', 'have', 'actually', 'done', 'something', 'or', 'used', 'some', 'solution', 'before', 'they', 'can', 'suggest', 'it', 'but', 'there', 'is', 'a', 'line', 'between', 'giving', 'a', 'well', 'reasoned', 'suggestion', 'and', 'regurgitating', 'what', 'you', 'read', 'in', 'the', 'app', 'market', 'i', 'm', 'not', 'sure', 'where', 'that', 'line', 'is', 'but', 'i', 'think', 'it', 'needs', 'to', 'be', 'there', 'i', 'see', 'this', 'as', 'more', 'damaging', 'to', 'the', 'site', 'then', 'the', 'subjective', 'questions', 'am', 'i', 'way', 'off', 'based', 'on', 'this', 'should', 'we', 'be', 'more', 'diligent', 'about', 'providing', 'substantive', 'answers', 'should', 'i', 'just', 'stop', 'complaining', 'and', 'downvote', 'an', 'answer', 'if', 'it', 's', 'an', 'empty', 'guess', 'disclaimer', 'i', 'realize', 'that', 'i', 'have', 'probably', 'answered', 'several', 'questions', 'like', 'this', 'ooops']\n",
      "['i', 'like', 'android', '2', '2', 'froyo', 'android', 'because', 'there', 'may', 'be', 'tags', 'related', 'to', 'specific', 'app', 'versions', 'both', '2', '2', 'and', 'froyo', 'because', 'not', 'everyone', 'knows', 'the', 'code', 'names', 'ref', 'at', 'least', 'one', 'question', 'already', 'asked', 'on', 'that', 'topic']\n",
      "['i', 'just', 'used', 'qr', 'codes', 'to', 'link', 'to', 'apps', 'in', 'the', 'market', 'what', 's', 'your', 'opinion', 'on', 'using', 'them', 'for', 'linking', 'apps', 'i', 'think', 'they', 'are', 'widely', 'used', 'and', 'there', 'are', 'many', 'barcode', 'readers', 'for', 'android', 'which', 'can', 'handle', 'them', 'and', 'it', 'is', 'better', 'than', 'searching', 'the', 'market', 'for', 'an', 'app', 'by', 'yourself', 'so', 'is', 'it', 'ok', 'to', 'use', 'them', 'to', 'link', 'apps']\n",
      "['qr', 'codes', 'are', 'great', 'just', 'make', 'sure', 'to', 'also', 'make', 'the', 'images', 'a', 'link', 'to', 'what', 'the', 'qr', 'code', 'is', 'pointing', 'to', 'for', 'people', 'who', 'are', 'browsing', 'this', 'site', 'on', 'their', 'phones', 'there', 'is', 'also', 'an', 'ascii', 'qr', 'code', 'generator', 'but', 'not', 'sure', 'how', 'well', 'they', 'd', 'work', 'here']\n",
      "['yes', 'i', 'find', 'qr', 'links', 'very', 'useful', 'especially', 'when', 'there', 'are', 'no', 'many', 'barcode', 'scanners', 'around', 'however', 'there', 'should', 'be', 'a', 'standard', 'for', 'these', 'here', 'is', 'an', 'app', 'that', 'will', 'help', 'posts', 'just', 'so', 'we', 'aren', 't', 'a', 'leaching', 'images', 'b', 'not', 'shutting', 'out', 'users', 'who', 'want', 'to', 'see', 'the', 'app', 'without', 'having', 'to', 'go', 'to', 'the', 'market', 'place', 'below', 'i', 've', 'listed', 'the', 'way', 'i', 've', 'been', 'linking', 'apps', 'to', 'answers', 'including', 'how', 'not', 'to', 'leach', 'images', 'important', 'because', 'we', 'don', 't', 'want', 'to', 'get', 'in', 'trouble', 'now', 'do', 'we', 'for', 'qr', 'images', 'i', 've', 'been', 'using', 'the', 'following', 'method', '1', 'find', 'the', 'app', 'on', 'marketplace', 'e', 'g', 'appbrain', 'you', 'want', 'to', 'share', '2', 'find', 'the', 'qr', 'code', 'button', 'and', 'locate', 'the', 'qr', 'code', '3', 'copy', 'the', 'url', 'of', 'the', 'qr', 'code', 'the', 'url', 'is', 'which', 'is', 'basically', 'if', 'you', 'use', 'the', 'image', 'upload', 'tool', 'on', 'the', 'post', 'answer', 'you', 'can', 'use', 'the', 'image', 'url', 'to', 'reupload', 'the', 'image', 'to', 'imgur', 'com', 'that', 'way', 'you', 'get', 'the', 'right', 'qr', 'code', 'generated', 'from', 'a', 'reliable', 'source', 'and', 'you', 'don', 't', 'steal', 'bandwidth', '4', 'make', 'sure', 'you', 'href', 'link', 'to', 'appbrain', 'at', 'the', 'same', 'time', 'so', 'annoying', 'when', 'you', 'get', 'a', 'qr', 'link', 'and', 'no', 'web', 'reference', 'to', 'what', 'it', 'is', 'i', 'm', 'not', 'sure', 'what', 'other', 'services', 'use', 'i', 'use', 'appbrain', 'for', 'a', 'lot', 'of', 'my', 'stuff', 'but', 'if', 'you', 'know', 'the', 'marketplace', 'url', 'just', 'go', 'from', 'step', '3', 'and', 'hardcode', 'the', 'charts', 'api', 'link', 'yourself', 'freehand', 'circles']\n",
      "['i', 'would', 'say', 'android', '2', '2', 'or', '2', '2', 'i', 'have', 'no', 'idea', 'what', 'most', 'of', 'the', 'code', 'names', 'refer', 'to', 'and', 'the', 'phones', 'specs', 'i', 'see', 'online', 'only', 'give', 'the', 'version', 'number', 'not', 'the', 'code', 'name', 'i', 'use', 'a', 'phone', 'with', 'android', '1', '5', 'i', 'know', 'it', 'is', '1', '5', 'i', 'don', 't', 'know', 'what', 'variety', 'of', 'food', 'i', 'would', 'refer', 'to', 'it', 'by', 'and', 'you', 'could', 'tell', 'me', 'in', 'the', 'comments', 'but', 'i', 'think', 'most', 'new', 'ish', 'users', 'would', 'have', 'no', 'idea']\n",
      "['as', 'soon', 'as', 'you', 'link', 'to', 'warez', 'cracks', 'of', 'commercial', 'apps', 'you', 'make', 'it', 'likely', 'that', 'this', 'board', 'becomes', 'nsfw', 'to', 'filters', 'that', 'means', 'close', 'that', 'question', 'comment', 'immediately', 'this', 'is', 'a', 'q', 'a', 'about', 'android', 'true', 'but', 'it', 'also', 'needs', 'to', 'be', 'on', 'par', 'with', 'stack', 'exchange', 'as', 'a', 'standard']\n",
      "['i', 'propose', 'that', 'until', 'we', 're', 'out', 'of', 'beta', 'we', 'eliminate', 'or', 'reduce', 'the', 'requirements', 'to', 'edit', 'tag', 'wikis', 'right', 'now', 'nobody', 'even', 'has', '1000', 'rep', 'perhaps', 'to', 'get', 'some', 'action', 'there', 'we', 'can', 'make', 'the', 'requirement', 'something', 'like', 'having', 'asked', 'or', 'answered', 'a', 'question', 'with', 'the', 'tag', 'and', 'have', 'been', 'up', 'voted', 'once', 'in', 'order', 'to', 'edit', 'tag', 'wikis']\n",
      "['i', 'would', 'expect', 'that', 'those', 'sorts', 'of', 'answers', 'would', 'be', 'less', 'helpful', 'and', 'as', 'such', 'not', 'get', 'voted', 'as', 'highly', 'i', 'think', 'the', 'natural', 'mechanisms', 'of', 'the', 'system', 'will', 'take', 'care', 'of', 'it', 'that', 'said', 'if', 'it', 's', 'really', 'not', 'an', 'answer', 'to', 'the', 'question', 'or', 'at', 'least', 'an', 'attempt', 'at', 'answering', 'it', 'should', 'be', 'converted', 'to', 'a', 'comment', 'flag', 'it', 'for', 'a', 'moderator', 's', 'attention']\n",
      "['you', 'can', 'find', 'it', 'here', 'it', 'will', 'only', 'post', 'one', 'tweet', 'per', 'hour', 'of', 'the', 'newest', 'questions', 'if', 'anyone', 'would', 'like', 'to', 'make', 'a', 'better', 'twitter', 'icon', 'please', 'do', 'whenever', 'we', 'get', 'an', 'official', 'domain', 'name', 'the', 'twitter', 'name', 'can', 'change', 'accordingly']\n",
      "['and', 'now', 'they', 're', 'awarding', 'the', 'beta', 'badge', 'after', 'what', 'seems', 'like', 'a', 'very', 'short', 'private', 'beta', 'at', 'least', 'i', 'was', 'notified', 'that', 'i', 'had', 'been', 'awarded', 'it', 'as', 'i', 'logged', 'in', 'this', 'morning', 'presumably', 'this', 'means', 'that', 'the', 'private', 'beta', 'is', 'over', 'and', 'we', 're', 'into', 'public', 'beta', 'now']\n",
      "['dragnotificationbar', 'com', 'available', 'was', 'trying', 'to', 'think', 'of', 'something', 'unique', 'to', 'android', 'and', 'take', 'some', 'flavor', 'from', 'the', 'other', '2', '0', 'sites', 'and', 'use', 'a', 'verb', 'might', 'be', 'too', 'long', 'though']\n",
      "['this', 'is', 'a', 'dedicated', 'android', 'site', 'any', 'tag', 'that', 'would', 'not', 'have', 'android', 'in', 'it', 'is', 'on', 'the', 'wrong', 'site', 'any', 'tag', 'that', 'explicitly', 'has', 'android', 'in', 'it', 'is', 'redundant', 'as', 'an', 'android', 'site', 'the', 'un', 'qualified', 'version', 'of', 'android', 'is', 'a', 'legitimate', 'tag', 'as', 'an', 'android', 'site', 'the', 'un', 'qualified', 'version', 'of', 'a', 'random', 'application', 'is', 'not', 'a', 'legitimate', 'tag', 'and', 'would', 'only', 'be', 'so', 'on', 'a', 'site', 'dedicated', 'to', 'that', 'application', '2', '2', 'or', 'froyo', 's', 'b', 'fine']\n",
      "['what', 'about', 'droidicted', 'com', 'like', 'android', 'adicted', 'as', 'we', 'all', 'are']\n",
      "['so', 'what', 's', 'the', 'deal', 'forceclose', 'com', 'that', 'should', 'be', 'read', 'with', 'a', 'seinfeld', 'impression', 'but', 'seriously', 'it', 'appears', 'to', 'be', 'the', 'same', 'thing', 'as', 'android', 'stackexchange', 'com', 'what', 's', 'there', 'relation', 'was', 'it', 'built', 'before', 'they', 'stopped', 'offering', 'custom', 'stackexchange', 'implementations', 'does', 'se', 'own', 'it', 'or', 'is', 'it', 'completely', 'unrelated', 'to', 'the', 'se', 'network', 'is', 'it', 'going', 'to', 'be', 'merged', 'with', 'a', 'se', 'or', 'are', 'the', 'two', 'sites', 'rivals', 'is', 'a', 'se', 'and', 'forceclose', 'going', 'to', 'have', 'a', 'q', 'a', 'showdown', 'at', 'high', 'noon', 'to', 'determine', 'the', 'top', 'android', 'answer', 'site', 'wtf']\n",
      "['pulling', 'this', 'out', 'of', 'comments', 'so', 'it', 'can', 'receive', 'proper', 'votes', 'if', 'it', 's', 'the', 'way', 'to', 'go', 'version', 'codename', '2', '1', 'eclair', '2', '2', 'froyo', 'this', 'avoids', 'the', 'overly', 'verbose', 'android', 'in', 'the', 'tag', 'and', 'it', 'makes', 'the', 'tag', 'findable', 'with', 'the', 'auto', 'complete', 'if', 'you', 'start', 'typing', 'either', 'the', 'version', 'number', 'or', 'the', 'codename']\n",
      "['wow', 'my', 'first', 'tumbleweed', 'badge', 'wohoo', 'i', 'guess', 'i', 'm', 'going', 'with', 'not', 'a', 'question']\n",
      "['forceclose', 'was', 'an', 'independently', 'owned', 'stack', 'exchange', 'site', 'from', 'when', 'we', 'offered', 'subscription', 'services', 'they', 'did', 'not', 'wish', 'to', 'join', 'with', 'android', 'se', 'once', 'their', 'site', 'expires', 'they', 'will', 'no', 'longer', 'operate', 'using', 'the', 'stack', 'exchange', 'software', 'i', 'do', 'not', 'know', 'what', 'their', 'plans', 'are', 'for', 'the', 'future']\n",
      "['i', 'm', 'the', 'administrator', 'of', 'force', 'close', 'robert', 'did', 'offer', 'for', 'us', 'to', 'join', 'the', 'stackexchange', '2', '0', 'network', 'but', 'i', 'declined', 'because', 'i', 'want', 'to', 'keep', 'ownership', 'of', 'the', 'site', 'i', 'plan', 'to', 'move', 'to', 'osqa', 'or', 'some', 'other', 'clone', 'when', 'our', 'subscription', 'expires', 'and', 'i', 'am', 'going', 'to', 'continue', 'promoting', 'the', 'site', 'summary', 'q', 'a', 'showdown', 'at', 'high', 'noon']\n",
      "['i', 'was', 'a', 'moderately', 'active', 'user', 'on', 'gadgets', 'stackexchange', 'most', 'of', 'my', 'activity', 'there', 'dealt', 'with', 'android', 'and', 'those', 'questions', 'and', 'answers', 'were', 'migrated', 'here', 'after', 'gadgets', 'was', 'closed', 'i', 'signed', 'up', 'for', 'this', 'site', 'as', 'soon', 'as', 'it', 'went', 'to', 'public', 'beta', 'i', 'used', 'the', 'same', 'openid', 'credentials', 'as', 'on', 'the', 'gadgets', 'site', 'but', 'my', 'migrated', 'questions', 'and', 'answers', 'have', 'not', 'been', 'linked', 'to', 'this', 'account', 'like', 'they', 're', 'supposed', 'to', 'can', 'someone', 'give', 'the', 'system', 'a', 'nudge', 'to', 'complete', 'the', 'job', 'i', 'can', 't', 'believe', 'i', 'm', 'the', 'only', 'one', 'with', 'this', 'issue']\n",
      "['there', 'are', 'now', 'several', 'people', 'is', 'one', 'lonely', 'guy', 'with', '1000', 'reputation', 'didn', 't', 'we', 'get', 'temporary', 'mods', 'this', 'is', 'probably', 'no', 'longer', 'necessary']\n",
      "['i', 'just', 'converted', 'all', 'apps', 'and', 'android', 'app', 'tags', 'to', 'the', 'applications', 'tag', 'i', 'also', 'created', 'synonyms', 'please', 'vote']\n",
      "['we', 'should', 'definitely', 'make', 'the', 'fav', 'icon', 'the', 'normal', 'robot']\n",
      "['jeff', 'atwood', 'nuked', 'the', 'android', 'tag', 'i', 're', 'tagged', 'questions', 'that', 'were', 'left', 'as', 'untagged', 'i', 'm', 'not', 'sure', 'if', 'this', 'means', 'users', 'still', 'be', 'able', 'to', 'add', 'new', 'questions', 'with', 'the', 'tag', 'or', 'not']\n",
      "['my', 'two', 'cents', 'the', 'dessert', 'names', 'of', 'the', 'versions', 'is', 'fun', 'and', 'all', 'but', 'most', 'of', 'your', 'normal', 'users', 'aren', 't', 'going', 'to', 'have', 'a', 'clue', 'as', 'to', 'what', 'it', 'means', 'further', 'it', 'doesn', 't', 'appear', 'on', 'the', 'phone', 'while', 'the', 'version', 'number', 'does', 'so', 'at', 'best', 'our', 'dessert', 'names', 'should', 'only', 'be', 'synonyms', 'i', 'wonder', 'if', 'the', 'naked', '2', '2', 'isn', 't', 'a', 'bit', 'too', 'esoteric', 'but', 'then', 'android', '2', '2', 'and', 'version', '2', '2', 'are', 'redundant', 'if', 'clearer', 'the', 'former', 'also', 'has', 'the', 'added', 'benefit', 'that', 'if', 'there', 'were', 'a', 'merger', 'in', 'the', 'future', 'or', 'android', 'forked', 'into', 'multiple', 'product', 'paths', 'no', 'global', 'renames', 'would', 'be', 'required', 'that', 's', 'probably', 'not', 'something', 'we', 'should', 'be', 'worrying', 'about', 'though', 'so', 'i', 'say', 'version', 'number', 'with', 'dessert', 'codename', 'and', 'android', 'version', 'number', 'as', 'synonyms', 'update', 'the', 'community', 'isn', 't', 'playing', 'along', 'android', '2', '2', 'x', '50', '2', '2', 'froyo', 'x', '24', 'froyo', 'x', '6', '2', '2', 'x', '1', '1', '5', 'cupcake', 'x', '3', 'android', '1', '5', 'x', '2', 'android', '2', '1', 'x', '34', '2', '1', 'eclair', 'x', '8', '2', '5', 'gingerbread', 'x', '1', 'which', 'is', 'just', 'plain', 'wrong', 'everything', 'i', 've', 'seen', 'indicates', 'gingerbread', 'will', 'be', '3', '0', 'except', 'for', 'this', 'which', 'implies', 'that', 'gingerbread', 'might', 'be', '2', '3', 'i', 'still', 'stand', 'by', 'my', 'suggestion', 'of', 'raw', 'version', 'numbers', 'e', 'g', '2', '2', 'as', 'best', 'with', 'tags', 'in', 'the', 'style', 'of', 'android', '2', '2', 'as', 'second', 'best', 'not', 'everyone', 'knows', 'about', 'the', 'dessert', 'names', 'and', 'if', 'google', 'stops', 'naming', 'their', 'versions', 'that', 'way', 'it', 's', 'not', 'going', 'to', 'make', 'any', 'sense', 'tags', 'based', 'on', 'the', 'official', 'names', 'is', 'more', 'future', 'proof']\n",
      "['we', 've', 'got', 'a', 'lot', 'of', 'different', 'tags', 'referencing', 'phone', 'models', 'droid', 'motorola', 'droid', 'incredible', 'htc', 'incredible', 'htc', 'droid', 'incredible', 'droid', 'x', 'etc', 'etc', 'etc', 'how', 'do', 'we', 'want', 'to', 'unify', 'these']\n",
      "['my', 'first', 'thought', 'with', 'all', 'of', 'these', 'is', 'to', 'err', 'on', 'the', 'side', 'of', 'being', 'a', 'little', 'verbose', 'i', 'like', 'the', 'format', 'manufacturer', 'model', 'name', 'htc', 'droid', 'incredible', 'motorola', 'droid', 'motorola', 'milestone', 'etc', 'that', 'way', 'phones', 'with', 'really', 'short', 'names', 'don', 't', 'get', 'an', 'ambiguous', 'confusing', 'tag', 'like', 'x', 'it', 'does', 'become', 'a', 'little', 'unclear', 'whether', 'droid', 'is', 'officially', 'part', 'of', 'the', 'name', 'for', 'some', 'models', 'though', 'for', 'instance', 'is', 'it', 'the', 'incredible', 'or', 'the', 'droid', 'incredible']\n",
      "['see', 'also', 'forceclose', 's', 'equivalent', 'of', 'this', 'question', 'from', 'a', 'little', 'while', 'ago', 'what', 'is', 'the', 'relationship', 'between', 'forceclose', 'com', 'and', 'the', 'area51', 'android', 'proposal']\n",
      "['askanandroid', 'com']\n",
      "['why', 'does', 'this', 'site', 'have', 'a', 'load', 'of', 'people', 'with', 'rep', 'of', '101', 'who', 'haven', 't', 'asked', 'answered', 'any', 'questions', 'am', 'i', 'missing', 'some', 'stack', 'exchange', 'new', 'user', 'policy']\n",
      "['you', 'start', 'with', '1', 'reputation', 'point', 'if', 'you', 'link', 'your', 'user', 'account', 'to', 'an', 'account', 'on', 'another', 'stack', 'exchange', 'site', 'you', 'get', 'a', 'free', '100', 'point', 'bonus', 'thus', '101', 'reputation', 'without', 'asking', 'any', 'questions', 'or', 'giving', 'any', 'answers', 'update', 'note', 'that', 'the', 'account', 'you', 'link', 'to', 'has', 'to', 'have', 'a', 'minimum', 'amount', 'of', 'reputation', 'itself', '200', 'or', 'you', 'don', 't', 'get', 'the', 'bonus', 'the', 'thinking', 'is', 'that', 'if', 'you', 're', 'a', 'good', 'contributor', 'on', 'another', 'site', 'that', 'will', 'likely', 'be', 'true', 'on', 'this', 'one', 'as', 'well', 'linked', 'account', 'didn', 't', 'get', '100', 'rep', 'points']\n",
      "['any', 'thought', 'about', 'actually', 'including', 'a', 'qr', 'code', 'generator', 'in', 'the', 'android', 'se', 'text', 'editor', 'itself', 'that', 'way', 'we', 'can', 'be', 'sure', 'we', 're', 'not', 'leeching', 'enforce', 'that', 'the', 'qr', 'code', 'is', 'also', 'linked', 'to', 'the', 'url', 'itself']\n",
      "['even', 'when', 'i', 'zoom', 'in', 'all', 'the', 'way', 'on', 'the', 'android', 'stackexchange', 'com', 'site', 'i', 'still', 'can', 't', 'click', 'on', 'the', 'favorite', 'star', 'my', 'tap', 'no', 'matter', 'how', 'accurate', 'hits', 'the', 'downvote', 'or', 'the', 'facebook', 'icon', 'anyone', 'else', 'have', 'this', 'problem', 'btw', 'i', 'wan', 't', 'sure', 'where', 'to', 'post', 'this', 'meta', 'or', 'not', 'techincally', 'it', 's', 'a', 'problem', 'i', 'm', 'having', 'on', 'my', 'android', 'phone', 'so', 'appropriate', 'for', 'android', 'se', 'but', 'it', 's', 'also', 'an', 'issue', 'i', 'm', 'having', 'with', 'the', 'site', 'so', 'its', 'meta', 'material', 'very', 'tough', 'choice', 'update', 'at', 'gary', 's', 'suggestion', 'i', 'addressed', 'this', 'issue', 'at', 'the', 'meta', 'stackoverflow', 'site', 'as', 'it', 'appears', 'to', 'be', 'affecting', 'all', 'the', 'sites', 'running', 'the', 'beta', 'template', 'if', 'you', 'are', 'experiencing', 'this', 'issue', 'or', 'have', 'a', 'solution', 'please', 'refer', 'to', 'the', 'question', 'here']\n",
      "['yes', 'motorola', 'droid', 'i', 'didn', 't', 'have', 'a', 'problem', 'on', 'meta', 'so', 'i', 'wonder', 'if', 'the', 'facebook', 'icon', 'isn', 't', 'overlapping', 'a', 'bit']\n",
      "['what', 'should', 'be', 'the', 'standard', 'spelling', 'for', 'tags', 'where', 'the', 'american', 'and', 'british', 'spellings', 'differ', 'for', 'instance', 'i', 'expect', 'synchronization', 'to', 'appear', 'any', 'time', 'obviously', 'synonyms', 'can', 'take', 'care', 'of', 'the', 'fragmentation', 'but', 'one', 'has', 'to', 'win', 'it', 'seems', 'to', 'me', 'that', 'mixing', 'the', 'two', 'will', 'be', 'too', 'dissonant', 'i', 'also', 'see', 'that', 'sync', 'is', 'out', 'there', 'too', 'that', 'will', 'need', 'to', 'be', 'synonymized']\n",
      "['according', 'to', 'this', 'discussion', 'on', 'meta', 'stack', 'overflow', 'tags', 'should', 'be', 'standardized', 'on', 'american', 'spelling', 'content', 'of', 'posts', 'should', 'not', 'be', 'changed', 'leave', 'it', 'as', 'the', 'author', 'wrote', 'it']\n",
      "['don', 't', 'know', 'which', 'should', 'win', 'they', 'both', 'have', 'three', 'questions', 'alarm', 'alarms', 'i', 'lean', 'toward', 'the', 'singular']\n",
      "['widget', '8', 'widgets', '1']\n",
      "['moved', 'alarms', 'to', 'alarm', 'vote', 'on', 'synonym', 'here']\n",
      "['moved', 'widgets', 'to', 'widget', 'vote', 'on', 'synonym', 'here']\n",
      "['market', '19', 'android', 'market', '11']\n",
      "['yes', 'same', 'here', 'on', 'htc', 'incredible', 'with', 'default', 'browser', 'i', 'suggest', 'putting', 'it', 'on', 'so', 's', 'meta', 'site', 'since', 'it', 's', 'probably', 'a', 'problem', 'across', 'all', 'se', 'sites', 'it', 's', 'similar', 'to', 'this', 'question', 'which', 'unfortunately', 'doesn', 't', 'seem', 'to', 'have', 'many', 'views']\n",
      "['electricsheep', 'com', 'as', 'in', 'do', 'androids', 'dream', 'of', 'is', 'taken', 'but', 'there', 's', 'no', 'real', 'content', 'there', 'i', 'don', 't', 'know', 'if', 'they', 'd', 'be', 'amenable', 'to', 'a', 'purchase', 'offer', 'of', 'course', 'there', 's', 'philip', 'k', 'dick', 's', 'heirs', 'who', 'might', 'have', 'something', 'to', 'say', 'about', 'it']\n",
      "['alphabeticaldessert', 'com', 'you', 'know', 'cupcake', 'donut', 'eclair', 'froyo', 'gingerbread', 'honeycomb', 'of', 'course', 'the', 'misspelling', 'alphabeticaldesert', 'will', 'get', 'snapped', 'up', 'by', 'a', 'spammer', 'in', 'five', 'minutes']\n",
      "['gulliblestormtrooper', 'com', 'no', 'actually', 'these', 'are', 'the', 'droids', 'you', 're', 'looking', 'for', 'a', 'little', 'esoteric', 'not', 'to', 'mention', 'the', 'lucasfilm', 'lawsuit', 'and', 'the', 'negative', 'connection', 'with', 'wwii', 'germany']\n",
      "['littlegreenrobot', 'com', 'sadly', 'currently', 'squatted', 'by', 'someone', 'else', 'who', 'appears', 'to', 'want', 'to', 'bring', 'another', 'android', 'site', 'into', 'the', 'world']\n",
      "['market', 'less', 'is', 'more']\n",
      "['hi', 'guys', 'this', 'is', 'not', 'a', 'question', 'i', 'made', 'a', 'small', 'google', 'widget', 'for', 'displaying', 'your', 'flair', 'on', 'igoogle', 'or', 'another', 'google', 'service', 'you', 'can', 'check', 'it', 'out', 'have', 'a', 'nice', 'day', 'and', 'let', 'me', 'know', 'if', 'you', 'it', 'to', 'evolve']\n"
     ]
    }
   ],
   "source": [
    "# #text so far\n",
    "\n",
    "for i in range(100):\n",
    "    print(list[i])"
   ]
  },
  {
   "cell_type": "code",
   "execution_count": 9,
   "id": "4709d651",
   "metadata": {
    "colab": {
     "base_uri": "https://localhost:8080/"
    },
    "id": "4709d651",
    "outputId": "fca57ac6-a751-405a-bf6d-37d08fa8a684"
   },
   "outputs": [
    {
     "name": "stdout",
     "output_type": "stream",
     "text": [
      "100\n"
     ]
    }
   ],
   "source": [
    "# track the current progress\n",
    "progess = 0\n",
    "\n",
    "# Less documents, less execution time\n",
    "list = list[:100]\n",
    "\n",
    "for i in range(len(list)):\n",
    "    list[i] = [word for word in list[i] if not word in stopwords.words()]\n",
    "    progess += 1\n",
    "    if progess % 100 == 0: \n",
    "        print(progess)\n"
   ]
  },
  {
   "cell_type": "code",
   "execution_count": 10,
   "id": "8339240f",
   "metadata": {
    "colab": {
     "base_uri": "https://localhost:8080/"
    },
    "id": "8339240f",
    "outputId": "abcc2f55-7aed-4e43-b134-895657d797b1"
   },
   "outputs": [
    {
     "name": "stdout",
     "output_type": "stream",
     "text": [
      "['questions', 'belong', 'category', 'apps', 'appropriate', 'android', 'enthusiasts', 'specific', 'apps', 'rss', 'aggregator', 'apps', 'integrate', 'google', 'reader', 'offline', 'reading']\n",
      "['list', 'x', 'questions', 'closed', 'answers', 'authoriatative', 'subjective', 'including', 'gps', 'traffic', 'question', 'abuse', 'simply', 'make', 'request', 'board', 'app', 'suggestions']\n",
      "['wrong', 'answer', 'add', 'bunch', 'rules', 'narrow', 'scope', 'allowed', 'answers', 'tend', 'valued', 'mentioned', 'app', 'usefulness', 'quality', 'answer', 'making', 'community', 'wiki', 'solve', 'problem', 'community', 'wiki', 'meant', 'questions', 'definitive', 'answer', 'room', 'discussion', 'answers', 'benefit', 'collaboration', 'community', 'fact', 'rep', 'change', 'fact', 'votes', 'longer', 'equal', 'quality', 'engine', 'designed', 'question', 'invites', 'quality', 'answers', 'limits', 'amount', 'answers', 'limited', 'page', 'answers', 'explain', 'app', 'fits', 'specific']\n",
      "['subjective', 'community', 'wiki', 'closed', 'depending', 'generic', 'specific', 'question']\n",
      "['possible', 'duplicate', 'write', 'elevator', 'pitch', 'tagline', 'note', 'closing', 'domain', 'naming', 'thread', 'entirely', 'wrong', 'question', 'blog', 'post', 'details', 'domain', 'names', 'wrong', 'question', 'android', 'stackexchange', 'setting', 'redirects', 'popular', 'domains', 'names', 'g', 'seasonedadvice', 'cooking', 'stackexchange', 'basicallymoney', 'money', 'stackexchange', 'list', 'question', 'write', 'elevator', 'pitch', 'tagline', 'click', 'contribute', 'ideas', 'vote', 'original', 'message', 'text', 'post', 'ideas', 'dot', 'domain', 'website', 'captures', 'spirit', 'intent', 'site', 'intended', 'enthusiasts', 'power', 'users', 'regular', 'android', 'operating', 'system', 'follow', 'guidelines', 'check', 'domain', 'making', 'suggestion', 'names', 'clever', 'helpful', 'whois', 'net', 'check', 'availability', 'read', 'post', 'squatted', 'names', 'post', 'domain', 'answer', 'makes', 'voting', 'process', 'easier', 'domains', 'similar', 'g', 'dev', 'devs', 'answer', 'make', 'domain', 'suggested', 'search', 'question', 'search', 'query', 'inquestion', '1', 'replacing', 'domain', 'search', 'coming', 'back', 'question', 'make', 'sort', 'answers', 'newest', 'miss', 'proposals']\n",
      "['stack', 'overflow', 'lots', 'questions', 'android', 'programming', 'site', 'stick', 'questions', 'owning', 'android', 'device', 'developing', 'idea', 'include', 'android', 'devices']\n",
      "['cents', 'question', 'programming', 'related', 'makes', 'fair', 'place', 'input', 'user', 'interface', 'questions', 'app', 'development', 'long', 'question', 'overly', 'subjective', 'site', 'android', 'users', 'power', 'users', 'necessarily', 'programmers']\n",
      "['android', 'developers', 'suggestion', 'area', '51', 'takes', 'development', 'questions']\n",
      "['question', 'subjective', 'generally', 'agree', 'ivo', 'flipse', 'answer', 'ways', 'phrase', 'question', 'subjective', 'instead', 'dinosaur', 'app', 'differences', 'dinosaur', 'apps', 'dinosaur', 'apps', 'sorry', 'dinosaurs', 'random', 'topic', 'mind', 'year']\n",
      "['generic', 'specific', 'questions', 'made', 'community', 'traffic', 'app', 'questions', 'apps', 'closed']\n",
      "['app', 'similar', 'apps', 'appropriate', 'question']\n",
      "['roboticoverlords', 'org']\n",
      "['humancyborgrelations', 'org', 'counterpart', 'r2d2']\n",
      "['depends', 'specific', 'community', 'wiki', 'specific', 'closed']\n",
      "['programming', 'questions', 'remain', 'stack', 'overflow']\n",
      "['appropriate', 'eliminate', 'questions', 'simply', 'subjective', 'element', 'especially', 'question', 'invite', 'objective', 'answers', 'completely', 'subjective', 'question', 'funnest', 'game', 'app', 'value', 'questions', 'asked', 'similar', 'app', 'suggestion', 'question', 'effective', 'anti', 'virus', 'app', 'completely', 'appropriate', 'question', 'invites', 'quantitative', 'responses', 'add', 'value', 'community', 'particular', 'app', 'simply', 'answer', 'apps', 'knowledge', 'makes', 'app', 'definitively', 'stand', 'rest', 'means', 'share', 'harm']\n",
      "['questions', 'tagged', 'android', 'site', 'android', 'tag', 'usefull', 'basically', 'questions', 'tagged', 'tag', 'black', 'list', 'android', 'tag']\n",
      "['androidexchange', 'org', 'edit', 'net']\n",
      "['list', 'x', 'question', 'rephrased', 'consider', 'cooking', 'question', 'macaroni', 'cheese', 'macaroni', 'cheese', 'recipes', 'invites', 'poor', 'answers', 'subjective', 'basis', 'especially', 'localized', 'particular', 'handset']\n",
      "['phrased', 'properly', 'app', 'question', 'app', 'category', 'email', 'notes', 'fart', 'noise', 'making', 'appropriate']\n",
      "['sounds', 'idea']\n",
      "['harm', 'starting', 'brainstorm', 'part', 'web', 'designer', 'things', 'lot', 'time', 'contribute', 'regard', 'open', 'licensing', 'android', 'logo', 'copyright', 'issues', 'involved']\n",
      "['g', 'question', 'details', 'update', 'sprint', 'rolling', '4g', 'york', 'evo', '4g', 'android', 'phone', 'question', 'indirectly', 'related', 'android']\n",
      "['value', 'generic', 'community', 'wiki', 'question', 'answers', 'lot', 'phrasing', 'question', 'idea', 'making', 'cw', 'question', 'generically', 'users', 'favorite', 'twitter', 'app', 'check', 'cw', 'questions', 'stack', 'overflow', 'multiple', 'answers', 'highly', 'rated', 'favorited', 'community', 'fact', 'highest', 'rated', 'questions', 'single', 'favorite', 'development', 'tool', 'favorite', 'vim', 'tricks', 'list', 'freely', 'available', 'programming', 'books', '1', '4k', 'upvotes', '2k', 'favorites']\n",
      "['hope', 'model', 'specific', 'questions', 'appropriate', 'rendered', 'entire', 'site', 'impotent', 'support', 'resource', 'specific', 'question', 'speculative', 'specific', 'android', 'probably', 'considered', 'topic']\n",
      "['lot', 'points', 'made', 'taking', 'existing', 'questions', 'hard', 'security', 'anti', 'virus', 'app', 'world', 'time', 'applications', 'music', 'app', 'dictation', 'transcription', 'software', 'firewalls', 'available', 'app', 'monitoring', 'amount', 'data', 'traffic', 'alternative', 'stock', 'camera', 'app', 'whats', 'app', 'identifying', 'apps', 'settings', 'performance', 'problems', 'personal', 'finance', 'applications', 'android', 'note', 'taking', 'comparision', 'twitter', 'apps', 'alternative', 'keyboards', 'lost', 'phone', 'finder', 'replacements', 'available', 'google', 'maps', 'android', 'apps', 'pay', 'apps', 'uninstalled', 'performance', 'problems', 'edit', 'missed', 'coming', 'coming', 'lightest', 'homescreen', 'replacement', 'launcher', 'app', 'app', 'available', 'stackexchange', 'android', 'handset', 'options', 'tricorder', 'apps', 'apps', 'rss', 'feed', 'aggregator', 'sites', 'android', 'app', 'linkedin', 'integration', 'voice', 'privacy', 'apps', 'available', 'guys', 'awful', 'day', 'beta', '109', 'questions', 'site', '22', '20', 'apps', 'yikes', 'worse', 'community', 'wiki', 'gaining', 'rep', 'answering', 'mundane', 'subjective', 'questions', 'imaginable', 'list', 'dramatically', 'illustrates', 'problem', 'allowing', 'questions', 'compass', 'app', 'flashlight', 'app', 'ukelele', 'simulation', 'app', 'gah', 'glorified', 'review', 'site', 'hard', 'market', 'read', 'reviews', 'android', 'developers', 'built', 'beautiful', 'rating', 'review', 'system', 'access', 'phone', 'fluff', 'start', 'closing', 'questions', 'close', 'moderators', 'properly', 'wikify', '1', 'line', 'recommendations', 'taking', '20', 'site', 'turning', 'land', 'grab', 'wanting', 'big', '500', 'upvoted', 'poll', 'questions', 'nip', 'bud', 'bite', 'hard', 'p', 'question', 'app', 'fine', 'alarm', 'clock', 'app', 'takes', 'account', 'personal', 'public', 'holidays', 'choose', 'shazam', 'midomi', 'specific', 'app', 'provided', 'criteria', 'significantly', 'narrow', 'list', 'candidates', 'author', 'comparison', 'specific', 'apps', 'problem', 'hundred', 'post', 'favourite', 'x', 'app', 'polls', 'time', 'hit', 'public', 'beta']\n",
      "['opinion', 'question', 'specifies', 'app', 'x', 'providing', 'list', 'required', 'features', 'constraints', 'case', 'app', 'x', 'suppose', 'hurt', 'app', '10', 'features', 'questions', 'significantly', 'constrained', 'appreciable', 'difference', 'x', 'app', 'questions', 'suspicious', 'questions', 'taking', 'format', 'treated', 'polls']\n",
      "['angle', 'defining', 'fuzzy', 'boundaries', 'things', 'books', 'app', 'barcode', 'scanning', 'goodreads', 'integration', 'exists', 'topic', 'subjective']\n",
      "['questions', 'appropriate', 'application', 'x', 'app', 'x']\n",
      "['androidmechanics', 'org']\n",
      "['answer', 'meta', 'points', 'number', 'questions', 'list', 'apps', 'favorite', 'x', 'app', 'probably', 'closed', 'due', 'subjective', 'unanswerable', 'nature', 'vote', 'close', 'question', 'reason', 'question', 'subjective', 'topic']\n",
      "['apps', 'closed', 'real', 'question', 'vague', 'similar', 'questions', 'imagine', 'asked', 'desert', 'island', 'top', '5', 'apps', 'app', 'app', 'changed', 'life', 'live', 'relatively', 'unknown', 'app', 'sort', 'question', 'popular', 'attract', 'lots', 'answers', 'interesting', 'read', 'type', 'question', 'regularly', 'inevitable', 'popular', 'questions', 'type', 'rss', 'aggregator', 'apps', 'integrate', 'google', 'reader', 'offline', 'reading', 'answerable', 'helps', 'solve', 'specific', 'definition', 'phase', 'site', 'suggested', 'question', 'app', 'app', 'task', 'question', 'received', '6', 'ontopic', 'votes', '0', 'offtopic', 'votes', 'sort', 'question', 'allowed', 'type', 'question', 'lot']\n",
      "['01', 'android', 'robot', 'reproduced', 'modified', 'freely', 'marketing', 'communications', 'standard', 'color', 'value', 'print', 'pms', '376c', 'online', 'hex', 'color', 'a4c639', 'android', 'robot', 'modification', 'proper', 'attribution', 'required', 'terms', 'creative', 'commons', 'attribution', 'license', 'details', 'proper', 'attribution', 'page', 'andoird', 'typeface', 'logo', 'nice', 'redux', 'android', 'style', 'area51', 'similar', 'droid', 'forum', 'flair', 'nice', 'emphasis', 'robots', 'binary']\n",
      "['beta', 'sites', 'dealing', 'duplicate', 'tags', 'applications', 'popular', 'vs', 'apps', 'vs', 'android', 'app', 'bring', 'different', 'sets', 'questions', 'apps', 'android', 'app', 'redundant', 'removed', 'site', 'covers', 'android', 'apps', 'begin']\n",
      "['party', 'p']\n",
      "['totally', 'android', 'app', 'tag', 'redundant', 'choose', 'authoritative', 'tag', 'edit', 'questions', 'vote', 'applications', 'blacklist', 'tags']\n",
      "['beta', 'actively', 'participated', 'private', 'beta', 'recall', 'correctly', 'web', 'applications', 'stackexchange', 'beta', 'awarded', 'bit', 'site', 'public', 'beta', 'actively', 'participated', 'site', 'running', 'nye', '3', 'days', 'early', 'beta', 'badge', 'awarded']\n",
      "['built', 'google', 'applications', 'obscure', 'application', 'answers']\n",
      "['appropriate', 'fact', 'relevant', 'mission', 'site', 'mass', 'x', 'app', 'questions', 'real', 'questions', 'objective', 'answers', 'specific', 'android', 'platform']\n",
      "['market', 'hosted', 'apps', 'issue', 'warez', 'type', 'hosting', 'cracked', 'paid', 'apps', 'apps', 'removed', 'market', 'case', 'point', 'shapewriter', 'keyboard', 'apk', 'pulled', 'distribution', 'company', 'org', 'buy', 'hosted', 'places', 'web', 'tolerate', 'links', 'apk']\n",
      "['warez', 'cracks', 'marketplace', 'market', 'place', 'aggregator', 'links', 'g', 'appbrain', 'marketplace', 'proper', 'alternate', 'marketplaces', 'long', 'warez', 'sites', 'disguised', 'google', 'code', 'links', 'links', 'applications', 'free', 'paid', 'links', 'applications', 'retracted', 'marketplace', 'rules', 'apply', 'rules', 'program', 'hosting']\n",
      "['specific', 'model', 'service', 'provider', 'questions', 'specific', 'model', 'compared', 'specific', 'model', 'questions', 'multiple', 'reasons', 'subjective', 'specs', 'market', 'changes', 'fast', 'comparing', 'apples', 'pointless', 'months']\n",
      "['question', 'remembering', 'year', 'app', 'exist', 'anymore', 'love', 'answer', 'kinds', 'questions', 'resource']\n",
      "['pertinent', 'question', 'course', 'additional', 'criteria', 'narrow', 'browser', 'app', 'bookmarks', 'pretty', 'lame', 'books', 'app', 'barcode', 'scanning', 'goodreads', 'integration', 'narrows', 'probably', '5', 'apps', 'course', 'voting', 'pretty', 'meaningless', 'open', 'invitation', 'post', 'favourite', 'app', 'part', 'question', 'format', 'valid', 'individual', 'questions', 'evaluated', 'individually', 'respect', 'meaningful', 'constraints']\n",
      "['android', 'questions', 'gadgets', 'stackexchange', 'merged', 'lot', 'duplicated', 'questions', 'pre', 'date', 'start', 'beta', 'answers', 'different', 'asked', 'question', 'gave', 'answer', 'gadgets', 'shows', 'profile', 'credit', 'give', 'credit', 'beta', 'member', 'close', 'questions', 'ae', 'favor', 'pre', 'existing', 'gadgets', 'questions', 'happen', 'rep']\n",
      "['handyandy', 'org', 'extra', 'chars', 'added', 'bypass', 'filter']\n",
      "['roboticbraininfo', 'feel', 'androids', 'compliment', 'brains', 'external', 'form', 'graft', 'site', 'compliments']\n",
      "['rep', 'stackexchange', 'sites', 'periodically', 'global', 'recalculations', 'rep', 'imported', 'questions', 'doled', 'dupes', 'especially', 'accepted', 'answer', 'adding', 'cross', 'link', 'comments', 'question', 'respective', 'sites']\n",
      "['handle', 'tags', 'versions', 'android', 'android', '2', '2', 'different', 'tags', 'android', '2', '2', 'froyo', '2', '2', 'android', '2', '2', 'popular', 'froyo', 'merge', 'tags', 'android', '2', '2', 'froyo', '2', '2', 'froyo']\n",
      "['questions', 'merged', 'solve', 'rep', 'problems', 'global', 'recalc']\n",
      "['build', 'donut', 'eclair', 'froyo', 'merge', 'number', 'confused', 'app', 'version', 'names', 'relevant', 'numbers', 'android', '2', '2', 'pure', 'redundant', 'silliness', 'specify', 'talking', 'android', 'android', 'enthusiasts', 'stackexchange']\n",
      "['2', 'cents', 'question', 'answered', 'meta', 'paranoia', 'subjectivity', 'app', 'particular', 'function', 'subjective', 'app', 'conflating', 'questions', 'answer', 'subjective', 'question']\n",
      "['reading', 'lot', 'answers', 'opinion', 'lazy', 'guess', 'asks', 'specific', 'question', 'answer', 'authority', 'answer', 'find', 'writing', 'bet', 'probably', 'app', 'promptly', 'hold', 'backspace', 'button', 'seconds', 'click', 'x', 'upper', 'hand', 'corner', 'screen', 'necessarily', 'solution', 'suggest', 'line', 'giving', 'reasoned', 'suggestion', 'regurgitating', 'read', 'app', 'market', 'line', 'damaging', 'site', 'subjective', 'questions', 'based', 'diligent', 'providing', 'substantive', 'answers', 'stop', 'complaining', 'downvote', 'answer', 'empty', 'guess', 'disclaimer', 'realize', 'probably', 'answered', 'questions', 'ooops']\n",
      "['android', '2', '2', 'froyo', 'android', 'tags', 'related', 'specific', 'app', 'versions', '2', '2', 'froyo', 'code', 'names', 'ref', 'question', 'asked', 'topic']\n",
      "['qr', 'codes', 'link', 'apps', 'market', 'opinion', 'linking', 'apps', 'widely', 'barcode', 'readers', 'android', 'handle', 'searching', 'market', 'app', 'link', 'apps']\n",
      "['qr', 'codes', 'great', 'make', 'make', 'images', 'link', 'qr', 'code', 'pointing', 'browsing', 'site', 'phones', 'ascii', 'qr', 'code', 'generator', 'work']\n",
      "['find', 'qr', 'links', 'especially', 'barcode', 'scanners', 'standard', 'app', 'posts', 'leaching', 'images', 'b', 'shutting', 'users', 'app', 'market', 'place', 'listed', 'linking', 'apps', 'answers', 'including', 'leach', 'images', 'important', 'trouble', 'qr', 'images', 'method', '1', 'find', 'app', 'marketplace', 'g', 'appbrain', 'share', '2', 'find', 'qr', 'code', 'button', 'locate', 'qr', 'code', '3', 'copy', 'url', 'qr', 'code', 'url', 'basically', 'image', 'upload', 'tool', 'post', 'answer', 'image', 'url', 'reupload', 'image', 'imgur', 'qr', 'code', 'generated', 'reliable', 'source', 'steal', 'bandwidth', '4', 'make', 'href', 'link', 'appbrain', 'time', 'annoying', 'qr', 'link', 'web', 'reference', 'services', 'appbrain', 'lot', 'stuff', 'marketplace', 'url', 'step', '3', 'hardcode', 'charts', 'api', 'link', 'freehand', 'circles']\n",
      "['android', '2', '2', '2', '2', 'idea', 'code', 'names', 'refer', 'phones', 'specs', 'online', 'give', 'version', 'number', 'code', 'phone', 'android', '1', '5', '1', '5', 'variety', 'food', 'refer', 'comments', 'ish', 'users', 'idea']\n",
      "['link', 'warez', 'cracks', 'commercial', 'apps', 'make', 'board', 'nsfw', 'filters', 'means', 'close', 'question', 'comment', 'immediately', 'android', 'stack', 'exchange', 'standard']\n",
      "['propose', 'beta', 'eliminate', 'reduce', 'requirements', 'edit', 'tag', 'wikis', '1000', 'rep', 'action', 'make', 'requirement', 'asked', 'answered', 'question', 'tag', 'voted', 'order', 'edit', 'tag', 'wikis']\n",
      "['expect', 'sorts', 'answers', 'helpful', 'voted', 'highly', 'natural', 'mechanisms', 'system', 'answer', 'question', 'attempt', 'answering', 'converted', 'comment', 'flag', 'moderator', 'attention']\n",
      "['find', 'post', 'tweet', 'hour', 'newest', 'questions', 'make', 'twitter', 'icon', 'official', 'domain', 'twitter', 'change']\n",
      "['awarding', 'beta', 'badge', 'short', 'private', 'beta', 'notified', 'awarded', 'logged', 'morning', 'presumably', 'means', 'private', 'beta', 'public', 'beta']\n",
      "['dragnotificationbar', 'available', 'unique', 'android', 'flavor', '2', '0', 'sites', 'verb', 'long']\n",
      "['dedicated', 'android', 'site', 'tag', 'android', 'wrong', 'site', 'tag', 'explicitly', 'android', 'redundant', 'android', 'site', 'qualified', 'version', 'android', 'legitimate', 'tag', 'android', 'site', 'qualified', 'version', 'random', 'application', 'legitimate', 'tag', 'site', 'dedicated', 'application', '2', '2', 'froyo', 'b', 'fine']\n",
      "['droidicted', 'android', 'adicted']\n",
      "['deal', 'forceclose', 'read', 'seinfeld', 'impression', 'appears', 'android', 'stackexchange', 'relation', 'built', 'stopped', 'offering', 'custom', 'stackexchange', 'implementations', 'completely', 'unrelated', 'network', 'merged', 'sites', 'rivals', 'forceclose', 'showdown', 'high', 'noon', 'determine', 'top', 'android', 'answer', 'site', 'wtf']\n",
      "['pulling', 'comments', 'receive', 'proper', 'votes', 'version', 'codename', '2', '1', 'eclair', '2', '2', 'froyo', 'avoids', 'overly', 'verbose', 'android', 'tag', 'makes', 'tag', 'findable', 'auto', 'complete', 'start', 'typing', 'version', 'number', 'codename']\n",
      "['wow', 'tumbleweed', 'badge', 'wohoo', 'guess', 'question']\n",
      "['forceclose', 'independently', 'owned', 'stack', 'exchange', 'site', 'offered', 'subscription', 'services', 'wish', 'join', 'android', 'site', 'expires', 'longer', 'operate', 'stack', 'exchange', 'software', 'plans', 'future']\n",
      "['administrator', 'force', 'close', 'robert', 'offer', 'join', 'stackexchange', '2', '0', 'network', 'declined', 'ownership', 'site', 'plan', 'move', 'osqa', 'clone', 'subscription', 'expires', 'continue', 'promoting', 'site', 'summary', 'showdown', 'high', 'noon']\n",
      "['moderately', 'active', 'user', 'gadgets', 'stackexchange', 'activity', 'dealt', 'android', 'questions', 'answers', 'migrated', 'gadgets', 'closed', 'signed', 'site', 'public', 'beta', 'openid', 'credentials', 'gadgets', 'site', 'migrated', 'questions', 'answers', 'linked', 'account', 'supposed', 'give', 'system', 'nudge', 'complete', 'job', 'believe', 'issue']\n",
      "['lonely', 'guy', '1000', 'reputation', 'temporary', 'mods', 'probably', 'longer']\n",
      "['converted', 'apps', 'android', 'app', 'tags', 'applications', 'tag', 'created', 'synonyms', 'vote']\n",
      "['definitely', 'make', 'fav', 'icon', 'normal', 'robot']\n",
      "['jeff', 'atwood', 'nuked', 'android', 'tag', 'tagged', 'questions', 'left', 'untagged', 'means', 'users', 'add', 'questions', 'tag']\n",
      "['cents', 'dessert', 'names', 'versions', 'fun', 'normal', 'users', 'clue', 'means', 'phone', 'version', 'number', 'dessert', 'names', 'synonyms', 'wonder', 'naked', '2', '2', 'bit', 'esoteric', 'android', '2', '2', 'version', '2', '2', 'redundant', 'clearer', 'former', 'added', 'benefit', 'merger', 'future', 'android', 'forked', 'multiple', 'product', 'paths', 'global', 'renames', 'required', 'probably', 'worrying', 'version', 'number', 'dessert', 'codename', 'android', 'version', 'number', 'synonyms', 'update', 'community', 'playing', 'android', '2', '2', 'x', '50', '2', '2', 'froyo', 'x', '24', 'froyo', 'x', '6', '2', '2', 'x', '1', '1', '5', 'cupcake', 'x', '3', 'android', '1', '5', 'x', '2', 'android', '2', '1', 'x', '34', '2', '1', 'eclair', 'x', '8', '2', '5', 'gingerbread', 'x', '1', 'plain', 'wrong', 'indicates', 'gingerbread', '3', '0', 'implies', 'gingerbread', '2', '3', 'stand', 'suggestion', 'raw', 'version', 'numbers', 'g', '2', '2', 'tags', 'style', 'android', '2', '2', 'dessert', 'names', 'google', 'stops', 'naming', 'versions', 'make', 'tags', 'based', 'official', 'names', 'future', 'proof']\n",
      "['lot', 'different', 'tags', 'referencing', 'phone', 'models', 'droid', 'motorola', 'droid', 'incredible', 'htc', 'incredible', 'htc', 'droid', 'incredible', 'droid', 'x', 'unify']\n",
      "['err', 'side', 'verbose', 'format', 'manufacturer', 'model', 'htc', 'droid', 'incredible', 'motorola', 'droid', 'motorola', 'milestone', 'phones', 'short', 'names', 'ambiguous', 'confusing', 'tag', 'x', 'unclear', 'droid', 'officially', 'part', 'models', 'instance', 'incredible', 'droid', 'incredible']\n",
      "['forceclose', 'equivalent', 'question', 'ago', 'relationship', 'forceclose', 'area51', 'android', 'proposal']\n",
      "['askanandroid']\n",
      "['site', 'load', 'rep', '101', 'asked', 'answered', 'questions', 'missing', 'stack', 'exchange', 'user', 'policy']\n",
      "['start', '1', 'reputation', 'point', 'link', 'user', 'account', 'account', 'stack', 'exchange', 'site', 'free', '100', 'point', 'bonus', '101', 'reputation', 'questions', 'giving', 'answers', 'update', 'note', 'account', 'link', 'minimum', 'amount', 'reputation', '200', 'bonus', 'contributor', 'site', 'linked', 'account', '100', 'rep', 'points']\n",
      "['including', 'qr', 'code', 'generator', 'android', 'text', 'editor', 'leeching', 'enforce', 'qr', 'code', 'linked', 'url']\n",
      "['zoom', 'android', 'stackexchange', 'site', 'click', 'favorite', 'star', 'tap', 'matter', 'accurate', 'hits', 'downvote', 'facebook', 'icon', 'problem', 'wan', 'post', 'meta', 'techincally', 'problem', 'android', 'phone', 'appropriate', 'android', 'issue', 'site', 'meta', 'material', 'tough', 'choice', 'update', 'gary', 'suggestion', 'addressed', 'issue', 'meta', 'stackoverflow', 'site', 'appears', 'affecting', 'sites', 'running', 'beta', 'template', 'experiencing', 'issue', 'solution', 'refer', 'question']\n",
      "['motorola', 'droid', 'problem', 'meta', 'wonder', 'facebook', 'icon', 'overlapping', 'bit']\n",
      "['standard', 'spelling', 'tags', 'american', 'british', 'spellings', 'differ', 'instance', 'expect', 'synchronization', 'time', 'synonyms', 'fragmentation', 'win', 'mixing', 'dissonant', 'sync', 'synonymized']\n",
      "['discussion', 'meta', 'stack', 'overflow', 'tags', 'standardized', 'american', 'spelling', 'content', 'posts', 'changed', 'leave', 'author', 'wrote']\n",
      "['win', 'questions', 'alarm', 'alarms', 'lean', 'singular']\n",
      "['widget', '8', 'widgets', '1']\n",
      "['moved', 'alarms', 'alarm', 'vote', 'synonym']\n",
      "['moved', 'widgets', 'widget', 'vote', 'synonym']\n",
      "['market', '19', 'android', 'market', '11']\n",
      "['htc', 'incredible', 'default', 'browser', 'suggest', 'putting', 'meta', 'site', 'probably', 'problem', 'sites', 'similar', 'question', 'unfortunately', 'views']\n",
      "['electricsheep', 'androids', 'dream', 'real', 'content', 'amenable', 'purchase', 'offer', 'course', 'philip', 'dick', 'heirs']\n",
      "['alphabeticaldessert', 'cupcake', 'donut', 'eclair', 'froyo', 'gingerbread', 'honeycomb', 'course', 'misspelling', 'alphabeticaldesert', 'snapped', 'spammer', 'minutes']\n",
      "['gulliblestormtrooper', 'droids', 'esoteric', 'mention', 'lucasfilm', 'lawsuit', 'negative', 'connection', 'wwii', 'germany']\n",
      "['littlegreenrobot', 'sadly', 'currently', 'squatted', 'appears', 'bring', 'android', 'site', 'world']\n",
      "['market']\n",
      "['guys', 'question', 'made', 'small', 'google', 'widget', 'displaying', 'flair', 'igoogle', 'google', 'service', 'check', 'nice', 'day', 'evolve']\n"
     ]
    }
   ],
   "source": [
    "#text so far\n",
    "for i in range(100):\n",
    "    print(list[i])    "
   ]
  },
  {
   "cell_type": "code",
   "execution_count": 11,
   "id": "54da7d99",
   "metadata": {
    "colab": {
     "base_uri": "https://localhost:8080/"
    },
    "id": "54da7d99",
    "outputId": "cb8078be-b041-4556-87c7-72aad9998bfb"
   },
   "outputs": [],
   "source": [
    "model = gensim.models.Word2Vec(list, min_count = 1, window = 5, vector_size=20)   # newer gensim versions, vector_size == size\n",
    "#model = gensim.models.Word2Vec(list, min_count = 1, window = 5, size=20)   \n"
   ]
  },
  {
   "cell_type": "code",
   "execution_count": 12,
   "id": "QfRwA1bxrxwg",
   "metadata": {
    "id": "QfRwA1bxrxwg"
   },
   "outputs": [],
   "source": [
    "dictionary = dict({})\n",
    "#for idx, key in enumerate(model.wv.vocab):  < 4 version\n",
    "for idx, key in enumerate(model.wv.key_to_index):\n",
    "    dictionary[key] = model.wv[key]"
   ]
  },
  {
   "cell_type": "code",
   "execution_count": 13,
   "id": "JQHXJKnlsE8g",
   "metadata": {
    "colab": {
     "base_uri": "https://localhost:8080/"
    },
    "id": "JQHXJKnlsE8g",
    "outputId": "324dc26b-4d82-473e-cbc3-a3ba99f99548"
   },
   "outputs": [
    {
     "name": "stdout",
     "output_type": "stream",
     "text": [
      "<class 'dict'>\n"
     ]
    }
   ],
   "source": [
    "print(type(dictionary))"
   ]
  },
  {
   "cell_type": "code",
   "execution_count": 16,
   "id": "OJB7rP2HsTNg",
   "metadata": {
    "id": "OJB7rP2HsTNg"
   },
   "outputs": [
    {
     "name": "stdout",
     "output_type": "stream",
     "text": [
      "[('rivals', 0.6307465), ('subscription', 0.70757174), ('load', 0.72559357), ('code', 0.9999999), ('music', 0.6133928), ('firewalls', 0.62686396), ('comment', 0.7223808), ('developers', 0.9999999)]\n"
     ]
    }
   ],
   "source": [
    "\"\"\"\n",
    "The method shoud expand the currenty query based on the cosine similartiy based on the given threshold. \n",
    "The method should return the list of elements, including the expending ones (if any). \n",
    "\n",
    "Parameters\n",
    "----------\n",
    "dictionary : dictionary\n",
    "    Dictionary based on the vec2word model \n",
    "original_query : str\n",
    "    The query\n",
    "number_of_elements_to_expand: int\n",
    "    Number of elements to expand\n",
    "threshold : float, optional\n",
    "    The similarity threshold required to add word to a query (default = 0.00)\n",
    "\"\"\"\n",
    "from sklearn.metrics.pairwise import cosine_similarity   # add import to beginning\n",
    "import numpy as np\n",
    "\n",
    "def cossim(query_vectors, doc_vectors):\n",
    "    similarities = []\n",
    "    for query_vector in query_vectors:\n",
    "        query_sim = []\n",
    "        for doc_vector in doc_vectors:\n",
    "            similarity = cosine_similarity(query_vector.reshape(1, -1), doc_vector.reshape(1, -1))\n",
    "            #print(similarity[0][0])\n",
    "            query_sim.append(similarity[0][0])\n",
    "        similarities.append(query_sim)\n",
    "\n",
    "    return similarities\n",
    "\n",
    "def queryExpansionAlgorithm(dictionary, original_query, number_of_elements_to_expand, threshold=0.00):\n",
    "    query_tokens = original_query.split()\n",
    "    query_vectors = [model.wv[token] for token in query_tokens]\n",
    "    # 1) add preprocessing steps in code above to handle tokens that are not in our current model. OR handle with different idea\n",
    "    # 2) add error handling in case token is not in model -> ignore this part of query for example = remove token\n",
    "    #print(query_vectors)\n",
    "    #print(dictionary.values())\n",
    "    similarity_matrix = cossim(query_vectors, dictionary.values())\n",
    "\n",
    "    dict_keys_list = []\n",
    "    for key in dictionary.keys():\n",
    "        dict_keys_list.append(key)\n",
    "\n",
    "    expanded_query_elements = []\n",
    "    for i, query_word in enumerate(query_tokens):\n",
    "        # top n highest similarity\n",
    "        top_n = np.argpartition(similarity_matrix[i], -number_of_elements_to_expand)[-number_of_elements_to_expand:]\n",
    "        #rint(top_n)\n",
    "\n",
    "        # Check if the cosine similarity between each of the top N words and the original word is above the threshold\n",
    "        for j in top_n:\n",
    "            if similarity_matrix[i][j] >= threshold:\n",
    "                expanded_query_elements.append((dict_keys_list[j], similarity_matrix[i][j]))\n",
    "    \n",
    "    return expanded_query_elements\n",
    "    \n",
    "    \n",
    "print(queryExpansionAlgorithm(dictionary, \"code developers\", 4))"
   ]
  },
  {
   "cell_type": "code",
   "execution_count": null,
   "id": "1db2af61",
   "metadata": {},
   "outputs": [],
   "source": []
  }
 ],
 "metadata": {
  "accelerator": "GPU",
  "colab": {
   "provenance": []
  },
  "gpuClass": "standard",
  "kernelspec": {
   "display_name": "Python 3 (ipykernel)",
   "language": "python",
   "name": "python3"
  },
  "language_info": {
   "codemirror_mode": {
    "name": "ipython",
    "version": 3
   },
   "file_extension": ".py",
   "mimetype": "text/x-python",
   "name": "python",
   "nbconvert_exporter": "python",
   "pygments_lexer": "ipython3",
   "version": "3.9.13"
  }
 },
 "nbformat": 4,
 "nbformat_minor": 5
}
