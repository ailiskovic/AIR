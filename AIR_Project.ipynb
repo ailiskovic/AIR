{
  "cells": [
    {
      "cell_type": "code",
      "execution_count": null,
      "metadata": {
        "colab": {
          "background_save": true
        },
        "id": "2fee8281",
        "outputId": "0ee70bc3-42c6-4482-b78f-7a5b0a427ad3"
      },
      "outputs": [
        {
          "name": "stderr",
          "output_type": "stream",
          "text": [
            "[nltk_data] Downloading package stopwords to /root/nltk_data...\n",
            "[nltk_data]   Package stopwords is already up-to-date!\n"
          ]
        }
      ],
      "source": [
        "import xml.etree.ElementTree as ET\n",
        "from xml.dom import minidom\n",
        "from bs4 import BeautifulSoup\n",
        "import re\n",
        "import nltk\n",
        "import gensim\n",
        "from nltk.tokenize import RegexpTokenizer\n",
        "from nltk.corpus import stopwords\n",
        "nltk.download('stopwords')\n",
        "from nltk.tokenize import word_tokenize\n",
        "\n",
        "tokenizer = RegexpTokenizer(r'\\w+')"
      ],
      "id": "2fee8281"
    },
    {
      "cell_type": "code",
      "execution_count": null,
      "metadata": {
        "colab": {
          "background_save": true
        },
        "id": "960b9efb"
      },
      "outputs": [],
      "source": [
        "# load XML file \n",
        "xmlTree = ET.parse('Posts.xml')\n",
        "root = xmlTree.getroot()\n",
        "\n",
        "tags = {elem.tag for elem in xmlTree.iter()}\n",
        "# xml_document = minidom.parse('Posts.xml')\n",
        "xml_document = minidom.parse('/content/Posts.xml')\n",
        "row_elements = xml_document.getElementsByTagName('row')\n",
        "posts_elements = xml_document.getElementsByTagName('posts')\n",
        "\n",
        "# print(\"The amount of posts elements: \", len(posts_elements))\n",
        "# print(\"The amount of row elements: \", len(row_elements))"
      ],
      "id": "960b9efb"
    },
    {
      "cell_type": "code",
      "execution_count": null,
      "metadata": {
        "id": "c85ff41f"
      },
      "outputs": [],
      "source": [
        "# This cell contains the prints which describe the structure of root element\n",
        "# the text is in a body attribute of a root elemnt\n",
        "\n",
        "row_element = root[0]\n",
        "print(\"The content of arrtibutes segment of row element: \")\n",
        "print(row_element.attrib)\n",
        "print(\"\")\n",
        "\n",
        "# just to see the structure of a root class\n",
        "\n",
        "# print(\"The content of attributes segment of posts element: \")\n",
        "# print(root.attrib)\n",
        "# print(\"\")\n",
        "\n",
        "# print(\"The needed content, value of Body attribute: \")\n",
        "# print(\"\")\n",
        "# print(row_element.attrib['Body'])\n",
        "\n",
        "# print(row_element.attrib['Body'])\n",
        "# print(type(row_element.attrib['Body']))\n",
        "# print(\"\")"
      ],
      "id": "c85ff41f"
    },
    {
      "cell_type": "code",
      "execution_count": null,
      "metadata": {
        "id": "d5f8eb7c"
      },
      "outputs": [],
      "source": [
        "string = row_element.attrib['Body']\n",
        "cleantext = BeautifulSoup(string, features=\"html.parser\").text\n",
        "# print example of old and new text\n",
        "print(cleantext)"
      ],
      "id": "d5f8eb7c"
    },
    {
      "cell_type": "code",
      "execution_count": null,
      "metadata": {
        "id": "7c15859e"
      },
      "outputs": [],
      "source": [
        "list = []\n",
        "\n",
        "for string in root.iter('row'):\n",
        "    body = string.attrib['Body']\n",
        "    cleantext = BeautifulSoup(body, features=\"html.parser\").text\n",
        "    list.append(cleantext)\n",
        "    \n",
        "    \n",
        "# #example of first 10 elements\n",
        "# print(\"Number of elements in list: \", len(list), \"\\n\")\n",
        "\n",
        "# print(\"10 elements of the list: \\n\")\n",
        "# for i in range(10):\n",
        "#     print(list[i])"
      ],
      "id": "7c15859e"
    },
    {
      "cell_type": "code",
      "execution_count": null,
      "metadata": {
        "id": "de6de8e2"
      },
      "outputs": [],
      "source": [
        "# now we need to delete hyperlinks, both http and https\n",
        "for i in range(len(list)):\n",
        "    list[i] = re.sub(r'http\\S+', '', list[i])     \n",
        "\n",
        "# remove new lines    \n",
        "for i in range(len(list)):\n",
        "    list[i].replace(\"\\n\", \"\")    \n",
        "    \n",
        "# apply tockenizer to split words to elements    \n",
        "for i in range(len(list)):\n",
        "    word_lower = list[i].lower()\n",
        "    cleaned_word = tokenizer.tokenize(word_lower)\n",
        "    list[i] = cleaned_word\n",
        "    "
      ],
      "id": "de6de8e2"
    },
    {
      "cell_type": "code",
      "execution_count": null,
      "metadata": {
        "id": "41e89f7f"
      },
      "outputs": [],
      "source": [
        "# #text so far\n",
        "\n",
        "for i in range(100):\n",
        "    print(list[i])"
      ],
      "id": "41e89f7f"
    },
    {
      "cell_type": "code",
      "execution_count": null,
      "metadata": {
        "colab": {
          "background_save": true,
          "base_uri": "https://localhost:8080/"
        },
        "id": "4709d651",
        "outputId": "cb06460a-b883-42e0-c03e-cd35feb95d22"
      },
      "outputs": [
        {
          "name": "stdout",
          "output_type": "stream",
          "text": [
            "100\n",
            "200\n",
            "300\n"
          ]
        }
      ],
      "source": [
        "# track the current progress\n",
        "progess = 0\n",
        "\n",
        "# Less documents, less execution time\n",
        "# list = list[:100]\n",
        "\n",
        "for i in range(len(list)):\n",
        "    list[i] = [word for word in list[i] if not word in stopwords.words()]\n",
        "    progess += 1\n",
        "    if progess % 100 == 0: \n",
        "        print(progess)\n"
      ],
      "id": "4709d651"
    },
    {
      "cell_type": "code",
      "execution_count": null,
      "metadata": {
        "id": "8339240f"
      },
      "outputs": [],
      "source": [
        "#text so far\n",
        "for i in range(100):\n",
        "    print(list[i])    "
      ],
      "id": "8339240f"
    },
    {
      "cell_type": "code",
      "execution_count": null,
      "metadata": {
        "id": "54da7d99"
      },
      "outputs": [],
      "source": [
        "model = gensim.models.Word2Vec(list, min_count = 1,size=20, window = 5)\n"
      ],
      "id": "54da7d99"
    },
    {
      "cell_type": "code",
      "execution_count": null,
      "metadata": {
        "id": "QfRwA1bxrxwg"
      },
      "outputs": [],
      "source": [
        "dictionary = dict({})\n",
        "for idx, key in enumerate(model.wv.vocab):\n",
        "    dictionary[key] = model.wv[key]"
      ],
      "id": "QfRwA1bxrxwg"
    },
    {
      "cell_type": "code",
      "execution_count": null,
      "metadata": {
        "id": "JQHXJKnlsE8g"
      },
      "outputs": [],
      "source": [
        "print(my_dict)"
      ],
      "id": "JQHXJKnlsE8g"
    },
    {
      "cell_type": "code",
      "execution_count": null,
      "metadata": {
        "id": "OJB7rP2HsTNg"
      },
      "outputs": [],
      "source": [
        "def queryExpansionAlgorithm(model, dictionary, original_query, number_of_elements_to_extand):\n",
        "  pass"
      ],
      "id": "OJB7rP2HsTNg"
    }
  ],
  "metadata": {
    "accelerator": "GPU",
    "colab": {
      "provenance": []
    },
    "gpuClass": "standard",
    "kernelspec": {
      "display_name": "Python 3 (ipykernel)",
      "language": "python",
      "name": "python3"
    },
    "language_info": {
      "codemirror_mode": {
        "name": "ipython",
        "version": 3
      },
      "file_extension": ".py",
      "mimetype": "text/x-python",
      "name": "python",
      "nbconvert_exporter": "python",
      "pygments_lexer": "ipython3",
      "version": "3.10.6"
    }
  },
  "nbformat": 4,
  "nbformat_minor": 5
}